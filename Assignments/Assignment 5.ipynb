{
 "cells": [
  {
   "cell_type": "markdown",
   "metadata": {},
   "source": [
    "# Assignment 5"
   ]
  },
  {
   "cell_type": "markdown",
   "metadata": {},
   "source": [
    "Build the best fitting auto regression model for FTSE returns. You should also analyze residuals. "
   ]
  },
  {
   "cell_type": "markdown",
   "metadata": {},
   "source": [
    "### Importing  Packages"
   ]
  },
  {
   "cell_type": "code",
   "execution_count": 1,
   "metadata": {},
   "outputs": [],
   "source": [
    "import pandas as pd\n",
    "import numpy as np\n",
    "import matplotlib.pyplot as plt\n",
    "import statsmodels.graphics.tsaplots as sgt\n",
    "from statsmodels.tsa.arima_model import ARMA\n",
    "from scipy.stats.distributions import chi2\n",
    "import statsmodels.tsa.stattools as sts \n",
    "import seaborn as sns"
   ]
  },
  {
   "cell_type": "markdown",
   "metadata": {},
   "source": [
    " "
   ]
  },
  {
   "cell_type": "markdown",
   "metadata": {},
   "source": [
    "### Loading and Preprocessing  Data"
   ]
  },
  {
   "cell_type": "code",
   "execution_count": 2,
   "metadata": {},
   "outputs": [],
   "source": [
    "raw_data = pd.read_csv(\"2018_financial_data.csv\") \n",
    "df=raw_data.copy()\n",
    "df['date'] = pd.to_datetime(df['date'], dayfirst = True)\n",
    "df.set_index('date', inplace=True)\n",
    "df=df.asfreq('b')\n",
    "df=df.fillna(method='ffill')"
   ]
  },
  {
   "cell_type": "code",
   "execution_count": 3,
   "metadata": {},
   "outputs": [
    {
     "data": {
      "text/html": [
       "<div>\n",
       "<style scoped>\n",
       "    .dataframe tbody tr th:only-of-type {\n",
       "        vertical-align: middle;\n",
       "    }\n",
       "\n",
       "    .dataframe tbody tr th {\n",
       "        vertical-align: top;\n",
       "    }\n",
       "\n",
       "    .dataframe thead th {\n",
       "        text-align: right;\n",
       "    }\n",
       "</style>\n",
       "<table border=\"1\" class=\"dataframe\">\n",
       "  <thead>\n",
       "    <tr style=\"text-align: right;\">\n",
       "      <th></th>\n",
       "      <th>spx</th>\n",
       "      <th>dax</th>\n",
       "      <th>ftse</th>\n",
       "      <th>nikkei</th>\n",
       "    </tr>\n",
       "    <tr>\n",
       "      <th>date</th>\n",
       "      <th></th>\n",
       "      <th></th>\n",
       "      <th></th>\n",
       "      <th></th>\n",
       "    </tr>\n",
       "  </thead>\n",
       "  <tbody>\n",
       "    <tr>\n",
       "      <th>1994-01-07</th>\n",
       "      <td>469.90</td>\n",
       "      <td>2224.95</td>\n",
       "      <td>3445.98</td>\n",
       "      <td>18124.01</td>\n",
       "    </tr>\n",
       "    <tr>\n",
       "      <th>1994-01-10</th>\n",
       "      <td>475.27</td>\n",
       "      <td>2225.00</td>\n",
       "      <td>3440.58</td>\n",
       "      <td>18443.44</td>\n",
       "    </tr>\n",
       "    <tr>\n",
       "      <th>1994-01-11</th>\n",
       "      <td>474.13</td>\n",
       "      <td>2228.10</td>\n",
       "      <td>3413.77</td>\n",
       "      <td>18485.25</td>\n",
       "    </tr>\n",
       "    <tr>\n",
       "      <th>1994-01-12</th>\n",
       "      <td>474.17</td>\n",
       "      <td>2182.06</td>\n",
       "      <td>3372.02</td>\n",
       "      <td>18793.88</td>\n",
       "    </tr>\n",
       "    <tr>\n",
       "      <th>1994-01-13</th>\n",
       "      <td>472.47</td>\n",
       "      <td>2142.37</td>\n",
       "      <td>3360.01</td>\n",
       "      <td>18577.26</td>\n",
       "    </tr>\n",
       "  </tbody>\n",
       "</table>\n",
       "</div>"
      ],
      "text/plain": [
       "               spx      dax     ftse    nikkei\n",
       "date                                          \n",
       "1994-01-07  469.90  2224.95  3445.98  18124.01\n",
       "1994-01-10  475.27  2225.00  3440.58  18443.44\n",
       "1994-01-11  474.13  2228.10  3413.77  18485.25\n",
       "1994-01-12  474.17  2182.06  3372.02  18793.88\n",
       "1994-01-13  472.47  2142.37  3360.01  18577.26"
      ]
     },
     "execution_count": 3,
     "metadata": {},
     "output_type": "execute_result"
    }
   ],
   "source": [
    "df.head()"
   ]
  },
  {
   "cell_type": "code",
   "execution_count": 4,
   "metadata": {},
   "outputs": [],
   "source": [
    "def llrTest(model1,model2,df_difference=1):\n",
    "    L1 = model1.fit().llf\n",
    "    L2 = model2.fit().llf\n",
    "    LR=(2*(L2-L1))\n",
    "    p = chi2.sf(LR,df_difference)\n",
    "    return p"
   ]
  },
  {
   "cell_type": "markdown",
   "metadata": {},
   "source": [
    "## Dickey Fuller Test for FTSE ##"
   ]
  },
  {
   "cell_type": "code",
   "execution_count": 5,
   "metadata": {},
   "outputs": [
    {
     "data": {
      "text/plain": [
       "(-1.597778892117985,\n",
       " 0.4847091205465968,\n",
       " 6,\n",
       " 6270,\n",
       " {'1%': -3.4313933778649943,\n",
       "  '5%': -2.862001080749219,\n",
       "  '10%': -2.567015430304048},\n",
       " 68476.87620974617)"
      ]
     },
     "execution_count": 5,
     "metadata": {},
     "output_type": "execute_result"
    }
   ],
   "source": [
    "sts.adfuller(df['ftse'])"
   ]
  },
  {
   "cell_type": "code",
   "execution_count": 6,
   "metadata": {},
   "outputs": [],
   "source": [
    "df['ftseReturns']=df['ftse'].pct_change(periods=1).mul(100)"
   ]
  },
  {
   "cell_type": "code",
   "execution_count": 7,
   "metadata": {},
   "outputs": [],
   "source": [
    "df = df[1:]"
   ]
  },
  {
   "cell_type": "code",
   "execution_count": 8,
   "metadata": {},
   "outputs": [
    {
     "data": {
      "text/plain": [
       "(-15.140761332034767,\n",
       " 7.016338451094858e-28,\n",
       " 34,\n",
       " 6241,\n",
       " {'1%': -3.431398228116075,\n",
       "  '5%': -2.8620032237533897,\n",
       "  '10%': -2.5670165710764503},\n",
       " 19026.504469066465)"
      ]
     },
     "execution_count": 8,
     "metadata": {},
     "output_type": "execute_result"
    }
   ],
   "source": [
    "#This is stantionary\n",
    "sts.adfuller(df['ftseReturns'])"
   ]
  },
  {
   "cell_type": "markdown",
   "metadata": {},
   "source": [
    "## AR(1) Model for Returns ##"
   ]
  },
  {
   "cell_type": "code",
   "execution_count": 9,
   "metadata": {},
   "outputs": [],
   "source": [
    "model_ftseReturns_ar_1 = ARMA(df['ftseReturns'], order=(1,0))"
   ]
  },
  {
   "cell_type": "code",
   "execution_count": 10,
   "metadata": {},
   "outputs": [],
   "source": [
    "results_ftseReturns_ar_1 = model_ftseReturns_ar_1.fit()"
   ]
  },
  {
   "cell_type": "code",
   "execution_count": 11,
   "metadata": {},
   "outputs": [
    {
     "data": {
      "text/html": [
       "<table class=\"simpletable\">\n",
       "<caption>ARMA Model Results</caption>\n",
       "<tr>\n",
       "  <th>Dep. Variable:</th>    <td>ftseReturns</td>   <th>  No. Observations:  </th>   <td>6276</td>   \n",
       "</tr>\n",
       "<tr>\n",
       "  <th>Model:</th>            <td>ARMA(1, 0)</td>    <th>  Log Likelihood     </th> <td>-9597.705</td>\n",
       "</tr>\n",
       "<tr>\n",
       "  <th>Method:</th>             <td>css-mle</td>     <th>  S.D. of innovations</th>   <td>1.117</td>  \n",
       "</tr>\n",
       "<tr>\n",
       "  <th>Date:</th>          <td>Thu, 16 Apr 2020</td> <th>  AIC                </th> <td>19201.409</td>\n",
       "</tr>\n",
       "<tr>\n",
       "  <th>Time:</th>              <td>13:02:09</td>     <th>  BIC                </th> <td>19221.643</td>\n",
       "</tr>\n",
       "<tr>\n",
       "  <th>Sample:</th>           <td>01-10-1994</td>    <th>  HQIC               </th> <td>19208.420</td>\n",
       "</tr>\n",
       "<tr>\n",
       "  <th></th>                 <td>- 01-29-2018</td>   <th>                     </th>     <td> </td>    \n",
       "</tr>\n",
       "</table>\n",
       "<table class=\"simpletable\">\n",
       "<tr>\n",
       "          <td></td>             <th>coef</th>     <th>std err</th>      <th>z</th>      <th>P>|z|</th>  <th>[0.025</th>    <th>0.975]</th>  \n",
       "</tr>\n",
       "<tr>\n",
       "  <th>const</th>             <td>    0.0190</td> <td>    0.014</td> <td>    1.371</td> <td> 0.170</td> <td>   -0.008</td> <td>    0.046</td>\n",
       "</tr>\n",
       "<tr>\n",
       "  <th>ar.L1.ftseReturns</th> <td>   -0.0176</td> <td>    0.013</td> <td>   -1.394</td> <td> 0.163</td> <td>   -0.042</td> <td>    0.007</td>\n",
       "</tr>\n",
       "</table>\n",
       "<table class=\"simpletable\">\n",
       "<caption>Roots</caption>\n",
       "<tr>\n",
       "    <td></td>   <th>            Real</th>  <th>         Imaginary</th> <th>         Modulus</th>  <th>        Frequency</th>\n",
       "</tr>\n",
       "<tr>\n",
       "  <th>AR.1</th> <td>         -56.8440</td> <td>          +0.0000j</td> <td>          56.8440</td> <td>           0.5000</td>\n",
       "</tr>\n",
       "</table>"
      ],
      "text/plain": [
       "<class 'statsmodels.iolib.summary.Summary'>\n",
       "\"\"\"\n",
       "                              ARMA Model Results                              \n",
       "==============================================================================\n",
       "Dep. Variable:            ftseReturns   No. Observations:                 6276\n",
       "Model:                     ARMA(1, 0)   Log Likelihood               -9597.705\n",
       "Method:                       css-mle   S.D. of innovations              1.117\n",
       "Date:                Thu, 16 Apr 2020   AIC                          19201.409\n",
       "Time:                        13:02:09   BIC                          19221.643\n",
       "Sample:                    01-10-1994   HQIC                         19208.420\n",
       "                         - 01-29-2018                                         \n",
       "=====================================================================================\n",
       "                        coef    std err          z      P>|z|      [0.025      0.975]\n",
       "-------------------------------------------------------------------------------------\n",
       "const                 0.0190      0.014      1.371      0.170      -0.008       0.046\n",
       "ar.L1.ftseReturns    -0.0176      0.013     -1.394      0.163      -0.042       0.007\n",
       "                                    Roots                                    \n",
       "=============================================================================\n",
       "                  Real          Imaginary           Modulus         Frequency\n",
       "-----------------------------------------------------------------------------\n",
       "AR.1          -56.8440           +0.0000j           56.8440            0.5000\n",
       "-----------------------------------------------------------------------------\n",
       "\"\"\""
      ]
     },
     "execution_count": 11,
     "metadata": {},
     "output_type": "execute_result"
    }
   ],
   "source": [
    "results_ftseReturns_ar_1.summary()"
   ]
  },
  {
   "cell_type": "code",
   "execution_count": 12,
   "metadata": {},
   "outputs": [],
   "source": [
    "# Can not reject null hypthoses due to p-value"
   ]
  },
  {
   "cell_type": "markdown",
   "metadata": {},
   "source": [
    "## AR(2) Model for Returns ##"
   ]
  },
  {
   "cell_type": "code",
   "execution_count": 13,
   "metadata": {},
   "outputs": [
    {
     "data": {
      "text/html": [
       "<table class=\"simpletable\">\n",
       "<caption>ARMA Model Results</caption>\n",
       "<tr>\n",
       "  <th>Dep. Variable:</th>    <td>ftseReturns</td>   <th>  No. Observations:  </th>   <td>6276</td>   \n",
       "</tr>\n",
       "<tr>\n",
       "  <th>Model:</th>            <td>ARMA(2, 0)</td>    <th>  Log Likelihood     </th> <td>-9590.309</td>\n",
       "</tr>\n",
       "<tr>\n",
       "  <th>Method:</th>             <td>css-mle</td>     <th>  S.D. of innovations</th>   <td>1.115</td>  \n",
       "</tr>\n",
       "<tr>\n",
       "  <th>Date:</th>          <td>Thu, 16 Apr 2020</td> <th>  AIC                </th> <td>19188.618</td>\n",
       "</tr>\n",
       "<tr>\n",
       "  <th>Time:</th>              <td>13:02:09</td>     <th>  BIC                </th> <td>19215.596</td>\n",
       "</tr>\n",
       "<tr>\n",
       "  <th>Sample:</th>           <td>01-10-1994</td>    <th>  HQIC               </th> <td>19197.966</td>\n",
       "</tr>\n",
       "<tr>\n",
       "  <th></th>                 <td>- 01-29-2018</td>   <th>                     </th>     <td> </td>    \n",
       "</tr>\n",
       "</table>\n",
       "<table class=\"simpletable\">\n",
       "<tr>\n",
       "          <td></td>             <th>coef</th>     <th>std err</th>      <th>z</th>      <th>P>|z|</th>  <th>[0.025</th>    <th>0.975]</th>  \n",
       "</tr>\n",
       "<tr>\n",
       "  <th>const</th>             <td>    0.0190</td> <td>    0.013</td> <td>    1.440</td> <td> 0.150</td> <td>   -0.007</td> <td>    0.045</td>\n",
       "</tr>\n",
       "<tr>\n",
       "  <th>ar.L1.ftseReturns</th> <td>   -0.0184</td> <td>    0.013</td> <td>   -1.463</td> <td> 0.143</td> <td>   -0.043</td> <td>    0.006</td>\n",
       "</tr>\n",
       "<tr>\n",
       "  <th>ar.L2.ftseReturns</th> <td>   -0.0485</td> <td>    0.013</td> <td>   -3.848</td> <td> 0.000</td> <td>   -0.073</td> <td>   -0.024</td>\n",
       "</tr>\n",
       "</table>\n",
       "<table class=\"simpletable\">\n",
       "<caption>Roots</caption>\n",
       "<tr>\n",
       "    <td></td>   <th>            Real</th>  <th>         Imaginary</th> <th>         Modulus</th>  <th>        Frequency</th>\n",
       "</tr>\n",
       "<tr>\n",
       "  <th>AR.1</th> <td>          -0.1901</td> <td>          -4.5361j</td> <td>           4.5401</td> <td>          -0.2567</td>\n",
       "</tr>\n",
       "<tr>\n",
       "  <th>AR.2</th> <td>          -0.1901</td> <td>          +4.5361j</td> <td>           4.5401</td> <td>           0.2567</td>\n",
       "</tr>\n",
       "</table>"
      ],
      "text/plain": [
       "<class 'statsmodels.iolib.summary.Summary'>\n",
       "\"\"\"\n",
       "                              ARMA Model Results                              \n",
       "==============================================================================\n",
       "Dep. Variable:            ftseReturns   No. Observations:                 6276\n",
       "Model:                     ARMA(2, 0)   Log Likelihood               -9590.309\n",
       "Method:                       css-mle   S.D. of innovations              1.115\n",
       "Date:                Thu, 16 Apr 2020   AIC                          19188.618\n",
       "Time:                        13:02:09   BIC                          19215.596\n",
       "Sample:                    01-10-1994   HQIC                         19197.966\n",
       "                         - 01-29-2018                                         \n",
       "=====================================================================================\n",
       "                        coef    std err          z      P>|z|      [0.025      0.975]\n",
       "-------------------------------------------------------------------------------------\n",
       "const                 0.0190      0.013      1.440      0.150      -0.007       0.045\n",
       "ar.L1.ftseReturns    -0.0184      0.013     -1.463      0.143      -0.043       0.006\n",
       "ar.L2.ftseReturns    -0.0485      0.013     -3.848      0.000      -0.073      -0.024\n",
       "                                    Roots                                    \n",
       "=============================================================================\n",
       "                  Real          Imaginary           Modulus         Frequency\n",
       "-----------------------------------------------------------------------------\n",
       "AR.1           -0.1901           -4.5361j            4.5401           -0.2567\n",
       "AR.2           -0.1901           +4.5361j            4.5401            0.2567\n",
       "-----------------------------------------------------------------------------\n",
       "\"\"\""
      ]
     },
     "execution_count": 13,
     "metadata": {},
     "output_type": "execute_result"
    }
   ],
   "source": [
    "model_ar_2 = ARMA(df['ftseReturns'],order=(2,0))\n",
    "results_ar_2 = model_ar_2.fit()\n",
    "results_ar_2.summary()"
   ]
  },
  {
   "cell_type": "code",
   "execution_count": 14,
   "metadata": {},
   "outputs": [
    {
     "data": {
      "text/plain": [
       "-9590.30911343141"
      ]
     },
     "execution_count": 14,
     "metadata": {},
     "output_type": "execute_result"
    }
   ],
   "source": [
    "results_ar_2.llf"
   ]
  },
  {
   "cell_type": "code",
   "execution_count": 15,
   "metadata": {},
   "outputs": [],
   "source": [
    "def llrTest(model1,model2,df_difference=1):\n",
    "    L1 = model1.fit().llf\n",
    "    L2 = model2.fit().llf\n",
    "    LR=(2*(L2-L1))\n",
    "    p = chi2.sf(LR,df_difference)\n",
    "    return p"
   ]
  },
  {
   "cell_type": "code",
   "execution_count": 16,
   "metadata": {},
   "outputs": [
    {
     "data": {
      "text/plain": [
       "0.00012009584210804937"
      ]
     },
     "execution_count": 16,
     "metadata": {},
     "output_type": "execute_result"
    }
   ],
   "source": [
    "llrTest(model_ftseReturns_ar_1,model_ar_2)"
   ]
  },
  {
   "cell_type": "markdown",
   "metadata": {},
   "source": [
    "## AR(3) Model for Returns ##"
   ]
  },
  {
   "cell_type": "code",
   "execution_count": 17,
   "metadata": {},
   "outputs": [
    {
     "data": {
      "text/html": [
       "<table class=\"simpletable\">\n",
       "<caption>ARMA Model Results</caption>\n",
       "<tr>\n",
       "  <th>Dep. Variable:</th>    <td>ftseReturns</td>   <th>  No. Observations:  </th>   <td>6276</td>   \n",
       "</tr>\n",
       "<tr>\n",
       "  <th>Model:</th>            <td>ARMA(3, 0)</td>    <th>  Log Likelihood     </th> <td>-9575.951</td>\n",
       "</tr>\n",
       "<tr>\n",
       "  <th>Method:</th>             <td>css-mle</td>     <th>  S.D. of innovations</th>   <td>1.113</td>  \n",
       "</tr>\n",
       "<tr>\n",
       "  <th>Date:</th>          <td>Thu, 16 Apr 2020</td> <th>  AIC                </th> <td>19161.902</td>\n",
       "</tr>\n",
       "<tr>\n",
       "  <th>Time:</th>              <td>13:02:09</td>     <th>  BIC                </th> <td>19195.624</td>\n",
       "</tr>\n",
       "<tr>\n",
       "  <th>Sample:</th>           <td>01-10-1994</td>    <th>  HQIC               </th> <td>19173.586</td>\n",
       "</tr>\n",
       "<tr>\n",
       "  <th></th>                 <td>- 01-29-2018</td>   <th>                     </th>     <td> </td>    \n",
       "</tr>\n",
       "</table>\n",
       "<table class=\"simpletable\">\n",
       "<tr>\n",
       "          <td></td>             <th>coef</th>     <th>std err</th>      <th>z</th>      <th>P>|z|</th>  <th>[0.025</th>    <th>0.975]</th>  \n",
       "</tr>\n",
       "<tr>\n",
       "  <th>const</th>             <td>    0.0190</td> <td>    0.012</td> <td>    1.542</td> <td> 0.123</td> <td>   -0.005</td> <td>    0.043</td>\n",
       "</tr>\n",
       "<tr>\n",
       "  <th>ar.L1.ftseReturns</th> <td>   -0.0217</td> <td>    0.013</td> <td>   -1.725</td> <td> 0.084</td> <td>   -0.046</td> <td>    0.003</td>\n",
       "</tr>\n",
       "<tr>\n",
       "  <th>ar.L2.ftseReturns</th> <td>   -0.0498</td> <td>    0.013</td> <td>   -3.956</td> <td> 0.000</td> <td>   -0.074</td> <td>   -0.025</td>\n",
       "</tr>\n",
       "<tr>\n",
       "  <th>ar.L3.ftseReturns</th> <td>   -0.0676</td> <td>    0.013</td> <td>   -5.365</td> <td> 0.000</td> <td>   -0.092</td> <td>   -0.043</td>\n",
       "</tr>\n",
       "</table>\n",
       "<table class=\"simpletable\">\n",
       "<caption>Roots</caption>\n",
       "<tr>\n",
       "    <td></td>   <th>            Real</th>  <th>         Imaginary</th> <th>         Modulus</th>  <th>        Frequency</th>\n",
       "</tr>\n",
       "<tr>\n",
       "  <th>AR.1</th> <td>           0.9712</td> <td>          -2.1405j</td> <td>           2.3505</td> <td>          -0.1822</td>\n",
       "</tr>\n",
       "<tr>\n",
       "  <th>AR.2</th> <td>           0.9712</td> <td>          +2.1405j</td> <td>           2.3505</td> <td>           0.1822</td>\n",
       "</tr>\n",
       "<tr>\n",
       "  <th>AR.3</th> <td>          -2.6790</td> <td>          -0.0000j</td> <td>           2.6790</td> <td>          -0.5000</td>\n",
       "</tr>\n",
       "</table>"
      ],
      "text/plain": [
       "<class 'statsmodels.iolib.summary.Summary'>\n",
       "\"\"\"\n",
       "                              ARMA Model Results                              \n",
       "==============================================================================\n",
       "Dep. Variable:            ftseReturns   No. Observations:                 6276\n",
       "Model:                     ARMA(3, 0)   Log Likelihood               -9575.951\n",
       "Method:                       css-mle   S.D. of innovations              1.113\n",
       "Date:                Thu, 16 Apr 2020   AIC                          19161.902\n",
       "Time:                        13:02:09   BIC                          19195.624\n",
       "Sample:                    01-10-1994   HQIC                         19173.586\n",
       "                         - 01-29-2018                                         \n",
       "=====================================================================================\n",
       "                        coef    std err          z      P>|z|      [0.025      0.975]\n",
       "-------------------------------------------------------------------------------------\n",
       "const                 0.0190      0.012      1.542      0.123      -0.005       0.043\n",
       "ar.L1.ftseReturns    -0.0217      0.013     -1.725      0.084      -0.046       0.003\n",
       "ar.L2.ftseReturns    -0.0498      0.013     -3.956      0.000      -0.074      -0.025\n",
       "ar.L3.ftseReturns    -0.0676      0.013     -5.365      0.000      -0.092      -0.043\n",
       "                                    Roots                                    \n",
       "=============================================================================\n",
       "                  Real          Imaginary           Modulus         Frequency\n",
       "-----------------------------------------------------------------------------\n",
       "AR.1            0.9712           -2.1405j            2.3505           -0.1822\n",
       "AR.2            0.9712           +2.1405j            2.3505            0.1822\n",
       "AR.3           -2.6790           -0.0000j            2.6790           -0.5000\n",
       "-----------------------------------------------------------------------------\n",
       "\"\"\""
      ]
     },
     "execution_count": 17,
     "metadata": {},
     "output_type": "execute_result"
    }
   ],
   "source": [
    "model_ar_3 = ARMA(df['ftseReturns'],order=(3,0))\n",
    "results_ar_3 = model_ar_3.fit()\n",
    "results_ar_3.summary()"
   ]
  },
  {
   "cell_type": "code",
   "execution_count": 18,
   "metadata": {},
   "outputs": [
    {
     "data": {
      "text/plain": [
       "8.379280062837199e-08"
      ]
     },
     "execution_count": 18,
     "metadata": {},
     "output_type": "execute_result"
    }
   ],
   "source": [
    "llrTest(model_ar_2,model_ar_3,df_difference=1)"
   ]
  },
  {
   "cell_type": "markdown",
   "metadata": {},
   "source": [
    "## AR(4) Model for Returns ##"
   ]
  },
  {
   "cell_type": "code",
   "execution_count": 19,
   "metadata": {},
   "outputs": [
    {
     "data": {
      "text/html": [
       "<table class=\"simpletable\">\n",
       "<caption>ARMA Model Results</caption>\n",
       "<tr>\n",
       "  <th>Dep. Variable:</th>    <td>ftseReturns</td>   <th>  No. Observations:  </th>   <td>6276</td>   \n",
       "</tr>\n",
       "<tr>\n",
       "  <th>Model:</th>            <td>ARMA(4, 0)</td>    <th>  Log Likelihood     </th> <td>-9573.016</td>\n",
       "</tr>\n",
       "<tr>\n",
       "  <th>Method:</th>             <td>css-mle</td>     <th>  S.D. of innovations</th>   <td>1.112</td>  \n",
       "</tr>\n",
       "<tr>\n",
       "  <th>Date:</th>          <td>Thu, 16 Apr 2020</td> <th>  AIC                </th> <td>19158.032</td>\n",
       "</tr>\n",
       "<tr>\n",
       "  <th>Time:</th>              <td>13:02:10</td>     <th>  BIC                </th> <td>19198.499</td>\n",
       "</tr>\n",
       "<tr>\n",
       "  <th>Sample:</th>           <td>01-10-1994</td>    <th>  HQIC               </th> <td>19172.053</td>\n",
       "</tr>\n",
       "<tr>\n",
       "  <th></th>                 <td>- 01-29-2018</td>   <th>                     </th>     <td> </td>    \n",
       "</tr>\n",
       "</table>\n",
       "<table class=\"simpletable\">\n",
       "<tr>\n",
       "          <td></td>             <th>coef</th>     <th>std err</th>      <th>z</th>      <th>P>|z|</th>  <th>[0.025</th>    <th>0.975]</th>  \n",
       "</tr>\n",
       "<tr>\n",
       "  <th>const</th>             <td>    0.0190</td> <td>    0.013</td> <td>    1.494</td> <td> 0.135</td> <td>   -0.006</td> <td>    0.044</td>\n",
       "</tr>\n",
       "<tr>\n",
       "  <th>ar.L1.ftseReturns</th> <td>   -0.0197</td> <td>    0.013</td> <td>   -1.558</td> <td> 0.119</td> <td>   -0.044</td> <td>    0.005</td>\n",
       "</tr>\n",
       "<tr>\n",
       "  <th>ar.L2.ftseReturns</th> <td>   -0.0482</td> <td>    0.013</td> <td>   -3.832</td> <td> 0.000</td> <td>   -0.073</td> <td>   -0.024</td>\n",
       "</tr>\n",
       "<tr>\n",
       "  <th>ar.L3.ftseReturns</th> <td>   -0.0669</td> <td>    0.013</td> <td>   -5.313</td> <td> 0.000</td> <td>   -0.092</td> <td>   -0.042</td>\n",
       "</tr>\n",
       "<tr>\n",
       "  <th>ar.L4.ftseReturns</th> <td>    0.0306</td> <td>    0.013</td> <td>    2.423</td> <td> 0.015</td> <td>    0.006</td> <td>    0.055</td>\n",
       "</tr>\n",
       "</table>\n",
       "<table class=\"simpletable\">\n",
       "<caption>Roots</caption>\n",
       "<tr>\n",
       "    <td></td>   <th>            Real</th>  <th>         Imaginary</th> <th>         Modulus</th>  <th>        Frequency</th>\n",
       "</tr>\n",
       "<tr>\n",
       "  <th>AR.1</th> <td>          -2.0764</td> <td>          -0.0000j</td> <td>           2.0764</td> <td>          -0.5000</td>\n",
       "</tr>\n",
       "<tr>\n",
       "  <th>AR.2</th> <td>           0.3947</td> <td>          -2.0922j</td> <td>           2.1291</td> <td>          -0.2203</td>\n",
       "</tr>\n",
       "<tr>\n",
       "  <th>AR.3</th> <td>           0.3947</td> <td>          +2.0922j</td> <td>           2.1291</td> <td>           0.2203</td>\n",
       "</tr>\n",
       "<tr>\n",
       "  <th>AR.4</th> <td>           3.4747</td> <td>          -0.0000j</td> <td>           3.4747</td> <td>          -0.0000</td>\n",
       "</tr>\n",
       "</table>"
      ],
      "text/plain": [
       "<class 'statsmodels.iolib.summary.Summary'>\n",
       "\"\"\"\n",
       "                              ARMA Model Results                              \n",
       "==============================================================================\n",
       "Dep. Variable:            ftseReturns   No. Observations:                 6276\n",
       "Model:                     ARMA(4, 0)   Log Likelihood               -9573.016\n",
       "Method:                       css-mle   S.D. of innovations              1.112\n",
       "Date:                Thu, 16 Apr 2020   AIC                          19158.032\n",
       "Time:                        13:02:10   BIC                          19198.499\n",
       "Sample:                    01-10-1994   HQIC                         19172.053\n",
       "                         - 01-29-2018                                         \n",
       "=====================================================================================\n",
       "                        coef    std err          z      P>|z|      [0.025      0.975]\n",
       "-------------------------------------------------------------------------------------\n",
       "const                 0.0190      0.013      1.494      0.135      -0.006       0.044\n",
       "ar.L1.ftseReturns    -0.0197      0.013     -1.558      0.119      -0.044       0.005\n",
       "ar.L2.ftseReturns    -0.0482      0.013     -3.832      0.000      -0.073      -0.024\n",
       "ar.L3.ftseReturns    -0.0669      0.013     -5.313      0.000      -0.092      -0.042\n",
       "ar.L4.ftseReturns     0.0306      0.013      2.423      0.015       0.006       0.055\n",
       "                                    Roots                                    \n",
       "=============================================================================\n",
       "                  Real          Imaginary           Modulus         Frequency\n",
       "-----------------------------------------------------------------------------\n",
       "AR.1           -2.0764           -0.0000j            2.0764           -0.5000\n",
       "AR.2            0.3947           -2.0922j            2.1291           -0.2203\n",
       "AR.3            0.3947           +2.0922j            2.1291            0.2203\n",
       "AR.4            3.4747           -0.0000j            3.4747           -0.0000\n",
       "-----------------------------------------------------------------------------\n",
       "\"\"\""
      ]
     },
     "execution_count": 19,
     "metadata": {},
     "output_type": "execute_result"
    }
   ],
   "source": [
    "model_ar_4 = ARMA(df['ftseReturns'],order=(4,0))\n",
    "results_ar_4 = model_ar_4.fit()\n",
    "results_ar_4.summary()"
   ]
  },
  {
   "cell_type": "code",
   "execution_count": 20,
   "metadata": {},
   "outputs": [
    {
     "data": {
      "text/plain": [
       "0.015399594104025739"
      ]
     },
     "execution_count": 20,
     "metadata": {},
     "output_type": "execute_result"
    }
   ],
   "source": [
    "llrTest(model_ar_3,model_ar_4,df_difference=1)"
   ]
  },
  {
   "cell_type": "markdown",
   "metadata": {},
   "source": [
    "## AR(5) Model for Returns ##"
   ]
  },
  {
   "cell_type": "code",
   "execution_count": 21,
   "metadata": {},
   "outputs": [
    {
     "data": {
      "text/html": [
       "<table class=\"simpletable\">\n",
       "<caption>ARMA Model Results</caption>\n",
       "<tr>\n",
       "  <th>Dep. Variable:</th>    <td>ftseReturns</td>   <th>  No. Observations:  </th>   <td>6276</td>   \n",
       "</tr>\n",
       "<tr>\n",
       "  <th>Model:</th>            <td>ARMA(5, 0)</td>    <th>  Log Likelihood     </th> <td>-9562.542</td>\n",
       "</tr>\n",
       "<tr>\n",
       "  <th>Method:</th>             <td>css-mle</td>     <th>  S.D. of innovations</th>   <td>1.110</td>  \n",
       "</tr>\n",
       "<tr>\n",
       "  <th>Date:</th>          <td>Thu, 16 Apr 2020</td> <th>  AIC                </th> <td>19139.083</td>\n",
       "</tr>\n",
       "<tr>\n",
       "  <th>Time:</th>              <td>13:02:10</td>     <th>  BIC                </th> <td>19186.295</td>\n",
       "</tr>\n",
       "<tr>\n",
       "  <th>Sample:</th>           <td>01-10-1994</td>    <th>  HQIC               </th> <td>19155.441</td>\n",
       "</tr>\n",
       "<tr>\n",
       "  <th></th>                 <td>- 01-29-2018</td>   <th>                     </th>     <td> </td>    \n",
       "</tr>\n",
       "</table>\n",
       "<table class=\"simpletable\">\n",
       "<tr>\n",
       "          <td></td>             <th>coef</th>     <th>std err</th>      <th>z</th>      <th>P>|z|</th>  <th>[0.025</th>    <th>0.975]</th>  \n",
       "</tr>\n",
       "<tr>\n",
       "  <th>const</th>             <td>    0.0190</td> <td>    0.012</td> <td>    1.584</td> <td> 0.113</td> <td>   -0.005</td> <td>    0.043</td>\n",
       "</tr>\n",
       "<tr>\n",
       "  <th>ar.L1.ftseReturns</th> <td>   -0.0179</td> <td>    0.013</td> <td>   -1.420</td> <td> 0.156</td> <td>   -0.043</td> <td>    0.007</td>\n",
       "</tr>\n",
       "<tr>\n",
       "  <th>ar.L2.ftseReturns</th> <td>   -0.0521</td> <td>    0.013</td> <td>   -4.136</td> <td> 0.000</td> <td>   -0.077</td> <td>   -0.027</td>\n",
       "</tr>\n",
       "<tr>\n",
       "  <th>ar.L3.ftseReturns</th> <td>   -0.0697</td> <td>    0.013</td> <td>   -5.536</td> <td> 0.000</td> <td>   -0.094</td> <td>   -0.045</td>\n",
       "</tr>\n",
       "<tr>\n",
       "  <th>ar.L4.ftseReturns</th> <td>    0.0294</td> <td>    0.013</td> <td>    2.336</td> <td> 0.019</td> <td>    0.005</td> <td>    0.054</td>\n",
       "</tr>\n",
       "<tr>\n",
       "  <th>ar.L5.ftseReturns</th> <td>   -0.0577</td> <td>    0.013</td> <td>   -4.581</td> <td> 0.000</td> <td>   -0.082</td> <td>   -0.033</td>\n",
       "</tr>\n",
       "</table>\n",
       "<table class=\"simpletable\">\n",
       "<caption>Roots</caption>\n",
       "<tr>\n",
       "    <td></td>   <th>            Real</th>  <th>         Imaginary</th> <th>         Modulus</th>  <th>        Frequency</th>\n",
       "</tr>\n",
       "<tr>\n",
       "  <th>AR.1</th> <td>          -1.6076</td> <td>          -0.0000j</td> <td>           1.6076</td> <td>          -0.5000</td>\n",
       "</tr>\n",
       "<tr>\n",
       "  <th>AR.2</th> <td>          -0.3482</td> <td>          -1.7427j</td> <td>           1.7771</td> <td>          -0.2814</td>\n",
       "</tr>\n",
       "<tr>\n",
       "  <th>AR.3</th> <td>          -0.3482</td> <td>          +1.7427j</td> <td>           1.7771</td> <td>           0.2814</td>\n",
       "</tr>\n",
       "<tr>\n",
       "  <th>AR.4</th> <td>           1.4069</td> <td>          -1.1970j</td> <td>           1.8472</td> <td>          -0.1122</td>\n",
       "</tr>\n",
       "<tr>\n",
       "  <th>AR.5</th> <td>           1.4069</td> <td>          +1.1970j</td> <td>           1.8472</td> <td>           0.1122</td>\n",
       "</tr>\n",
       "</table>"
      ],
      "text/plain": [
       "<class 'statsmodels.iolib.summary.Summary'>\n",
       "\"\"\"\n",
       "                              ARMA Model Results                              \n",
       "==============================================================================\n",
       "Dep. Variable:            ftseReturns   No. Observations:                 6276\n",
       "Model:                     ARMA(5, 0)   Log Likelihood               -9562.542\n",
       "Method:                       css-mle   S.D. of innovations              1.110\n",
       "Date:                Thu, 16 Apr 2020   AIC                          19139.083\n",
       "Time:                        13:02:10   BIC                          19186.295\n",
       "Sample:                    01-10-1994   HQIC                         19155.441\n",
       "                         - 01-29-2018                                         \n",
       "=====================================================================================\n",
       "                        coef    std err          z      P>|z|      [0.025      0.975]\n",
       "-------------------------------------------------------------------------------------\n",
       "const                 0.0190      0.012      1.584      0.113      -0.005       0.043\n",
       "ar.L1.ftseReturns    -0.0179      0.013     -1.420      0.156      -0.043       0.007\n",
       "ar.L2.ftseReturns    -0.0521      0.013     -4.136      0.000      -0.077      -0.027\n",
       "ar.L3.ftseReturns    -0.0697      0.013     -5.536      0.000      -0.094      -0.045\n",
       "ar.L4.ftseReturns     0.0294      0.013      2.336      0.019       0.005       0.054\n",
       "ar.L5.ftseReturns    -0.0577      0.013     -4.581      0.000      -0.082      -0.033\n",
       "                                    Roots                                    \n",
       "=============================================================================\n",
       "                  Real          Imaginary           Modulus         Frequency\n",
       "-----------------------------------------------------------------------------\n",
       "AR.1           -1.6076           -0.0000j            1.6076           -0.5000\n",
       "AR.2           -0.3482           -1.7427j            1.7771           -0.2814\n",
       "AR.3           -0.3482           +1.7427j            1.7771            0.2814\n",
       "AR.4            1.4069           -1.1970j            1.8472           -0.1122\n",
       "AR.5            1.4069           +1.1970j            1.8472            0.1122\n",
       "-----------------------------------------------------------------------------\n",
       "\"\"\""
      ]
     },
     "execution_count": 21,
     "metadata": {},
     "output_type": "execute_result"
    }
   ],
   "source": [
    "model_ar_5 = ARMA(df['ftseReturns'],order=(5,0))\n",
    "results_ar_5 = model_ar_5.fit()\n",
    "results_ar_5.summary()"
   ]
  },
  {
   "cell_type": "code",
   "execution_count": 22,
   "metadata": {},
   "outputs": [
    {
     "data": {
      "text/plain": [
       "4.718257339802153e-06"
      ]
     },
     "execution_count": 22,
     "metadata": {},
     "output_type": "execute_result"
    }
   ],
   "source": [
    "llrTest(model_ar_4,model_ar_5,df_difference=1)"
   ]
  },
  {
   "cell_type": "code",
   "execution_count": 23,
   "metadata": {},
   "outputs": [
    {
     "data": {
      "text/plain": [
       "1.5011558345585534e-06"
      ]
     },
     "execution_count": 23,
     "metadata": {},
     "output_type": "execute_result"
    }
   ],
   "source": [
    "llrTest(model_ar_3,model_ar_5,df_difference=2)"
   ]
  },
  {
   "cell_type": "markdown",
   "metadata": {},
   "source": [
    "## AR(6) Model for Returns ##"
   ]
  },
  {
   "cell_type": "code",
   "execution_count": 24,
   "metadata": {},
   "outputs": [
    {
     "data": {
      "text/html": [
       "<table class=\"simpletable\">\n",
       "<caption>ARMA Model Results</caption>\n",
       "<tr>\n",
       "  <th>Dep. Variable:</th>    <td>ftseReturns</td>   <th>  No. Observations:  </th>   <td>6276</td>   \n",
       "</tr>\n",
       "<tr>\n",
       "  <th>Model:</th>            <td>ARMA(6, 0)</td>    <th>  Log Likelihood     </th> <td>-9558.464</td>\n",
       "</tr>\n",
       "<tr>\n",
       "  <th>Method:</th>             <td>css-mle</td>     <th>  S.D. of innovations</th>   <td>1.110</td>  \n",
       "</tr>\n",
       "<tr>\n",
       "  <th>Date:</th>          <td>Thu, 16 Apr 2020</td> <th>  AIC                </th> <td>19132.928</td>\n",
       "</tr>\n",
       "<tr>\n",
       "  <th>Time:</th>              <td>13:02:11</td>     <th>  BIC                </th> <td>19186.884</td>\n",
       "</tr>\n",
       "<tr>\n",
       "  <th>Sample:</th>           <td>01-10-1994</td>    <th>  HQIC               </th> <td>19151.623</td>\n",
       "</tr>\n",
       "<tr>\n",
       "  <th></th>                 <td>- 01-29-2018</td>   <th>                     </th>     <td> </td>    \n",
       "</tr>\n",
       "</table>\n",
       "<table class=\"simpletable\">\n",
       "<tr>\n",
       "          <td></td>             <th>coef</th>     <th>std err</th>      <th>z</th>      <th>P>|z|</th>  <th>[0.025</th>    <th>0.975]</th>  \n",
       "</tr>\n",
       "<tr>\n",
       "  <th>const</th>             <td>    0.0190</td> <td>    0.012</td> <td>    1.643</td> <td> 0.100</td> <td>   -0.004</td> <td>    0.042</td>\n",
       "</tr>\n",
       "<tr>\n",
       "  <th>ar.L1.ftseReturns</th> <td>   -0.0200</td> <td>    0.013</td> <td>   -1.583</td> <td> 0.113</td> <td>   -0.045</td> <td>    0.005</td>\n",
       "</tr>\n",
       "<tr>\n",
       "  <th>ar.L2.ftseReturns</th> <td>   -0.0510</td> <td>    0.013</td> <td>   -4.053</td> <td> 0.000</td> <td>   -0.076</td> <td>   -0.026</td>\n",
       "</tr>\n",
       "<tr>\n",
       "  <th>ar.L3.ftseReturns</th> <td>   -0.0722</td> <td>    0.013</td> <td>   -5.725</td> <td> 0.000</td> <td>   -0.097</td> <td>   -0.047</td>\n",
       "</tr>\n",
       "<tr>\n",
       "  <th>ar.L4.ftseReturns</th> <td>    0.0276</td> <td>    0.013</td> <td>    2.186</td> <td> 0.029</td> <td>    0.003</td> <td>    0.052</td>\n",
       "</tr>\n",
       "<tr>\n",
       "  <th>ar.L5.ftseReturns</th> <td>   -0.0584</td> <td>    0.013</td> <td>   -4.635</td> <td> 0.000</td> <td>   -0.083</td> <td>   -0.034</td>\n",
       "</tr>\n",
       "<tr>\n",
       "  <th>ar.L6.ftseReturns</th> <td>   -0.0360</td> <td>    0.013</td> <td>   -2.857</td> <td> 0.004</td> <td>   -0.061</td> <td>   -0.011</td>\n",
       "</tr>\n",
       "</table>\n",
       "<table class=\"simpletable\">\n",
       "<caption>Roots</caption>\n",
       "<tr>\n",
       "    <td></td>   <th>            Real</th>  <th>         Imaginary</th> <th>         Modulus</th>  <th>        Frequency</th>\n",
       "</tr>\n",
       "<tr>\n",
       "  <th>AR.1</th> <td>           1.3034</td> <td>          -0.9330j</td> <td>           1.6029</td> <td>          -0.0989</td>\n",
       "</tr>\n",
       "<tr>\n",
       "  <th>AR.2</th> <td>           1.3034</td> <td>          +0.9330j</td> <td>           1.6029</td> <td>           0.0989</td>\n",
       "</tr>\n",
       "<tr>\n",
       "  <th>AR.3</th> <td>          -0.1126</td> <td>          -1.5943j</td> <td>           1.5983</td> <td>          -0.2612</td>\n",
       "</tr>\n",
       "<tr>\n",
       "  <th>AR.4</th> <td>          -0.1126</td> <td>          +1.5943j</td> <td>           1.5983</td> <td>           0.2612</td>\n",
       "</tr>\n",
       "<tr>\n",
       "  <th>AR.5</th> <td>          -2.0008</td> <td>          -0.4747j</td> <td>           2.0563</td> <td>          -0.4629</td>\n",
       "</tr>\n",
       "<tr>\n",
       "  <th>AR.6</th> <td>          -2.0008</td> <td>          +0.4747j</td> <td>           2.0563</td> <td>           0.4629</td>\n",
       "</tr>\n",
       "</table>"
      ],
      "text/plain": [
       "<class 'statsmodels.iolib.summary.Summary'>\n",
       "\"\"\"\n",
       "                              ARMA Model Results                              \n",
       "==============================================================================\n",
       "Dep. Variable:            ftseReturns   No. Observations:                 6276\n",
       "Model:                     ARMA(6, 0)   Log Likelihood               -9558.464\n",
       "Method:                       css-mle   S.D. of innovations              1.110\n",
       "Date:                Thu, 16 Apr 2020   AIC                          19132.928\n",
       "Time:                        13:02:11   BIC                          19186.884\n",
       "Sample:                    01-10-1994   HQIC                         19151.623\n",
       "                         - 01-29-2018                                         \n",
       "=====================================================================================\n",
       "                        coef    std err          z      P>|z|      [0.025      0.975]\n",
       "-------------------------------------------------------------------------------------\n",
       "const                 0.0190      0.012      1.643      0.100      -0.004       0.042\n",
       "ar.L1.ftseReturns    -0.0200      0.013     -1.583      0.113      -0.045       0.005\n",
       "ar.L2.ftseReturns    -0.0510      0.013     -4.053      0.000      -0.076      -0.026\n",
       "ar.L3.ftseReturns    -0.0722      0.013     -5.725      0.000      -0.097      -0.047\n",
       "ar.L4.ftseReturns     0.0276      0.013      2.186      0.029       0.003       0.052\n",
       "ar.L5.ftseReturns    -0.0584      0.013     -4.635      0.000      -0.083      -0.034\n",
       "ar.L6.ftseReturns    -0.0360      0.013     -2.857      0.004      -0.061      -0.011\n",
       "                                    Roots                                    \n",
       "=============================================================================\n",
       "                  Real          Imaginary           Modulus         Frequency\n",
       "-----------------------------------------------------------------------------\n",
       "AR.1            1.3034           -0.9330j            1.6029           -0.0989\n",
       "AR.2            1.3034           +0.9330j            1.6029            0.0989\n",
       "AR.3           -0.1126           -1.5943j            1.5983           -0.2612\n",
       "AR.4           -0.1126           +1.5943j            1.5983            0.2612\n",
       "AR.5           -2.0008           -0.4747j            2.0563           -0.4629\n",
       "AR.6           -2.0008           +0.4747j            2.0563            0.4629\n",
       "-----------------------------------------------------------------------------\n",
       "\"\"\""
      ]
     },
     "execution_count": 24,
     "metadata": {},
     "output_type": "execute_result"
    }
   ],
   "source": [
    "model_ar_6 = ARMA(df['ftseReturns'],order=(6,0))\n",
    "results_ar_6 = model_ar_6.fit()\n",
    "results_ar_6.summary()"
   ]
  },
  {
   "cell_type": "code",
   "execution_count": 25,
   "metadata": {},
   "outputs": [
    {
     "data": {
      "text/plain": [
       "0.004294130896356442"
      ]
     },
     "execution_count": 25,
     "metadata": {},
     "output_type": "execute_result"
    }
   ],
   "source": [
    "llrTest(model_ar_5,model_ar_6,df_difference=1)"
   ]
  },
  {
   "cell_type": "code",
   "execution_count": 26,
   "metadata": {},
   "outputs": [
    {
     "data": {
      "text/plain": [
       "4.789262906099917e-07"
      ]
     },
     "execution_count": 26,
     "metadata": {},
     "output_type": "execute_result"
    }
   ],
   "source": [
    "llrTest(model_ar_4,model_ar_6,df_difference=2)"
   ]
  },
  {
   "cell_type": "markdown",
   "metadata": {},
   "source": [
    "## AR(7) Model for Returns ##"
   ]
  },
  {
   "cell_type": "code",
   "execution_count": 27,
   "metadata": {},
   "outputs": [
    {
     "data": {
      "text/html": [
       "<table class=\"simpletable\">\n",
       "<caption>ARMA Model Results</caption>\n",
       "<tr>\n",
       "  <th>Dep. Variable:</th>    <td>ftseReturns</td>   <th>  No. Observations:  </th>   <td>6276</td>   \n",
       "</tr>\n",
       "<tr>\n",
       "  <th>Model:</th>            <td>ARMA(7, 0)</td>    <th>  Log Likelihood     </th> <td>-9558.281</td>\n",
       "</tr>\n",
       "<tr>\n",
       "  <th>Method:</th>             <td>css-mle</td>     <th>  S.D. of innovations</th>   <td>1.110</td>  \n",
       "</tr>\n",
       "<tr>\n",
       "  <th>Date:</th>          <td>Thu, 16 Apr 2020</td> <th>  AIC                </th> <td>19134.561</td>\n",
       "</tr>\n",
       "<tr>\n",
       "  <th>Time:</th>              <td>13:02:13</td>     <th>  BIC                </th> <td>19195.261</td>\n",
       "</tr>\n",
       "<tr>\n",
       "  <th>Sample:</th>           <td>01-10-1994</td>    <th>  HQIC               </th> <td>19155.593</td>\n",
       "</tr>\n",
       "<tr>\n",
       "  <th></th>                 <td>- 01-29-2018</td>   <th>                     </th>     <td> </td>    \n",
       "</tr>\n",
       "</table>\n",
       "<table class=\"simpletable\">\n",
       "<tr>\n",
       "          <td></td>             <th>coef</th>     <th>std err</th>      <th>z</th>      <th>P>|z|</th>  <th>[0.025</th>    <th>0.975]</th>  \n",
       "</tr>\n",
       "<tr>\n",
       "  <th>const</th>             <td>    0.0190</td> <td>    0.012</td> <td>    1.631</td> <td> 0.103</td> <td>   -0.004</td> <td>    0.042</td>\n",
       "</tr>\n",
       "<tr>\n",
       "  <th>ar.L1.ftseReturns</th> <td>   -0.0197</td> <td>    0.013</td> <td>   -1.561</td> <td> 0.119</td> <td>   -0.044</td> <td>    0.005</td>\n",
       "</tr>\n",
       "<tr>\n",
       "  <th>ar.L2.ftseReturns</th> <td>   -0.0506</td> <td>    0.013</td> <td>   -4.011</td> <td> 0.000</td> <td>   -0.075</td> <td>   -0.026</td>\n",
       "</tr>\n",
       "<tr>\n",
       "  <th>ar.L3.ftseReturns</th> <td>   -0.0724</td> <td>    0.013</td> <td>   -5.740</td> <td> 0.000</td> <td>   -0.097</td> <td>   -0.048</td>\n",
       "</tr>\n",
       "<tr>\n",
       "  <th>ar.L4.ftseReturns</th> <td>    0.0281</td> <td>    0.013</td> <td>    2.224</td> <td> 0.026</td> <td>    0.003</td> <td>    0.053</td>\n",
       "</tr>\n",
       "<tr>\n",
       "  <th>ar.L5.ftseReturns</th> <td>   -0.0580</td> <td>    0.013</td> <td>   -4.598</td> <td> 0.000</td> <td>   -0.083</td> <td>   -0.033</td>\n",
       "</tr>\n",
       "<tr>\n",
       "  <th>ar.L6.ftseReturns</th> <td>   -0.0359</td> <td>    0.013</td> <td>   -2.844</td> <td> 0.004</td> <td>   -0.061</td> <td>   -0.011</td>\n",
       "</tr>\n",
       "<tr>\n",
       "  <th>ar.L7.ftseReturns</th> <td>    0.0076</td> <td>    0.013</td> <td>    0.606</td> <td> 0.544</td> <td>   -0.017</td> <td>    0.032</td>\n",
       "</tr>\n",
       "</table>\n",
       "<table class=\"simpletable\">\n",
       "<caption>Roots</caption>\n",
       "<tr>\n",
       "    <td></td>   <th>            Real</th>  <th>         Imaginary</th> <th>         Modulus</th>  <th>        Frequency</th>\n",
       "</tr>\n",
       "<tr>\n",
       "  <th>AR.1</th> <td>          -1.7554</td> <td>          -0.5583j</td> <td>           1.8421</td> <td>          -0.4510</td>\n",
       "</tr>\n",
       "<tr>\n",
       "  <th>AR.2</th> <td>          -1.7554</td> <td>          +0.5583j</td> <td>           1.8421</td> <td>           0.4510</td>\n",
       "</tr>\n",
       "<tr>\n",
       "  <th>AR.3</th> <td>          -0.1529</td> <td>          -1.5557j</td> <td>           1.5632</td> <td>          -0.2656</td>\n",
       "</tr>\n",
       "<tr>\n",
       "  <th>AR.4</th> <td>          -0.1529</td> <td>          +1.5557j</td> <td>           1.5632</td> <td>           0.2656</td>\n",
       "</tr>\n",
       "<tr>\n",
       "  <th>AR.5</th> <td>           1.2934</td> <td>          -0.9953j</td> <td>           1.6320</td> <td>          -0.1044</td>\n",
       "</tr>\n",
       "<tr>\n",
       "  <th>AR.6</th> <td>           1.2934</td> <td>          +0.9953j</td> <td>           1.6320</td> <td>           0.1044</td>\n",
       "</tr>\n",
       "<tr>\n",
       "  <th>AR.7</th> <td>           5.9207</td> <td>          -0.0000j</td> <td>           5.9207</td> <td>          -0.0000</td>\n",
       "</tr>\n",
       "</table>"
      ],
      "text/plain": [
       "<class 'statsmodels.iolib.summary.Summary'>\n",
       "\"\"\"\n",
       "                              ARMA Model Results                              \n",
       "==============================================================================\n",
       "Dep. Variable:            ftseReturns   No. Observations:                 6276\n",
       "Model:                     ARMA(7, 0)   Log Likelihood               -9558.281\n",
       "Method:                       css-mle   S.D. of innovations              1.110\n",
       "Date:                Thu, 16 Apr 2020   AIC                          19134.561\n",
       "Time:                        13:02:13   BIC                          19195.261\n",
       "Sample:                    01-10-1994   HQIC                         19155.593\n",
       "                         - 01-29-2018                                         \n",
       "=====================================================================================\n",
       "                        coef    std err          z      P>|z|      [0.025      0.975]\n",
       "-------------------------------------------------------------------------------------\n",
       "const                 0.0190      0.012      1.631      0.103      -0.004       0.042\n",
       "ar.L1.ftseReturns    -0.0197      0.013     -1.561      0.119      -0.044       0.005\n",
       "ar.L2.ftseReturns    -0.0506      0.013     -4.011      0.000      -0.075      -0.026\n",
       "ar.L3.ftseReturns    -0.0724      0.013     -5.740      0.000      -0.097      -0.048\n",
       "ar.L4.ftseReturns     0.0281      0.013      2.224      0.026       0.003       0.053\n",
       "ar.L5.ftseReturns    -0.0580      0.013     -4.598      0.000      -0.083      -0.033\n",
       "ar.L6.ftseReturns    -0.0359      0.013     -2.844      0.004      -0.061      -0.011\n",
       "ar.L7.ftseReturns     0.0076      0.013      0.606      0.544      -0.017       0.032\n",
       "                                    Roots                                    \n",
       "=============================================================================\n",
       "                  Real          Imaginary           Modulus         Frequency\n",
       "-----------------------------------------------------------------------------\n",
       "AR.1           -1.7554           -0.5583j            1.8421           -0.4510\n",
       "AR.2           -1.7554           +0.5583j            1.8421            0.4510\n",
       "AR.3           -0.1529           -1.5557j            1.5632           -0.2656\n",
       "AR.4           -0.1529           +1.5557j            1.5632            0.2656\n",
       "AR.5            1.2934           -0.9953j            1.6320           -0.1044\n",
       "AR.6            1.2934           +0.9953j            1.6320            0.1044\n",
       "AR.7            5.9207           -0.0000j            5.9207           -0.0000\n",
       "-----------------------------------------------------------------------------\n",
       "\"\"\""
      ]
     },
     "execution_count": 27,
     "metadata": {},
     "output_type": "execute_result"
    }
   ],
   "source": [
    "model_ar_7 = ARMA(df['ftseReturns'],order=(7,0))\n",
    "results_ar_7 = model_ar_7.fit()\n",
    "results_ar_7.summary()"
   ]
  },
  {
   "cell_type": "code",
   "execution_count": 28,
   "metadata": {},
   "outputs": [
    {
     "data": {
      "text/plain": [
       "0.5445021918441949"
      ]
     },
     "execution_count": 28,
     "metadata": {},
     "output_type": "execute_result"
    }
   ],
   "source": [
    "llrTest(model_ar_6,model_ar_7,df_difference=1)"
   ]
  },
  {
   "cell_type": "markdown",
   "metadata": {},
   "source": [
    "## AR(8) Model for Returns ##"
   ]
  },
  {
   "cell_type": "code",
   "execution_count": 29,
   "metadata": {},
   "outputs": [
    {
     "data": {
      "text/html": [
       "<table class=\"simpletable\">\n",
       "<caption>ARMA Model Results</caption>\n",
       "<tr>\n",
       "  <th>Dep. Variable:</th>    <td>ftseReturns</td>   <th>  No. Observations:  </th>   <td>6276</td>   \n",
       "</tr>\n",
       "<tr>\n",
       "  <th>Model:</th>            <td>ARMA(8, 0)</td>    <th>  Log Likelihood     </th> <td>-9557.521</td>\n",
       "</tr>\n",
       "<tr>\n",
       "  <th>Method:</th>             <td>css-mle</td>     <th>  S.D. of innovations</th>   <td>1.110</td>  \n",
       "</tr>\n",
       "<tr>\n",
       "  <th>Date:</th>          <td>Thu, 16 Apr 2020</td> <th>  AIC                </th> <td>19135.042</td>\n",
       "</tr>\n",
       "<tr>\n",
       "  <th>Time:</th>              <td>13:02:15</td>     <th>  BIC                </th> <td>19202.487</td>\n",
       "</tr>\n",
       "<tr>\n",
       "  <th>Sample:</th>           <td>01-10-1994</td>    <th>  HQIC               </th> <td>19158.410</td>\n",
       "</tr>\n",
       "<tr>\n",
       "  <th></th>                 <td>- 01-29-2018</td>   <th>                     </th>     <td> </td>    \n",
       "</tr>\n",
       "</table>\n",
       "<table class=\"simpletable\">\n",
       "<tr>\n",
       "          <td></td>             <th>coef</th>     <th>std err</th>      <th>z</th>      <th>P>|z|</th>  <th>[0.025</th>    <th>0.975]</th>  \n",
       "</tr>\n",
       "<tr>\n",
       "  <th>const</th>             <td>    0.0190</td> <td>    0.012</td> <td>    1.606</td> <td> 0.108</td> <td>   -0.004</td> <td>    0.042</td>\n",
       "</tr>\n",
       "<tr>\n",
       "  <th>ar.L1.ftseReturns</th> <td>   -0.0198</td> <td>    0.013</td> <td>   -1.570</td> <td> 0.116</td> <td>   -0.045</td> <td>    0.005</td>\n",
       "</tr>\n",
       "<tr>\n",
       "  <th>ar.L2.ftseReturns</th> <td>   -0.0500</td> <td>    0.013</td> <td>   -3.964</td> <td> 0.000</td> <td>   -0.075</td> <td>   -0.025</td>\n",
       "</tr>\n",
       "<tr>\n",
       "  <th>ar.L3.ftseReturns</th> <td>   -0.0715</td> <td>    0.013</td> <td>   -5.660</td> <td> 0.000</td> <td>   -0.096</td> <td>   -0.047</td>\n",
       "</tr>\n",
       "<tr>\n",
       "  <th>ar.L4.ftseReturns</th> <td>    0.0277</td> <td>    0.013</td> <td>    2.188</td> <td> 0.029</td> <td>    0.003</td> <td>    0.052</td>\n",
       "</tr>\n",
       "<tr>\n",
       "  <th>ar.L5.ftseReturns</th> <td>   -0.0569</td> <td>    0.013</td> <td>   -4.497</td> <td> 0.000</td> <td>   -0.082</td> <td>   -0.032</td>\n",
       "</tr>\n",
       "<tr>\n",
       "  <th>ar.L6.ftseReturns</th> <td>   -0.0351</td> <td>    0.013</td> <td>   -2.778</td> <td> 0.005</td> <td>   -0.060</td> <td>   -0.010</td>\n",
       "</tr>\n",
       "<tr>\n",
       "  <th>ar.L7.ftseReturns</th> <td>    0.0080</td> <td>    0.013</td> <td>    0.631</td> <td> 0.528</td> <td>   -0.017</td> <td>    0.033</td>\n",
       "</tr>\n",
       "<tr>\n",
       "  <th>ar.L8.ftseReturns</th> <td>    0.0156</td> <td>    0.013</td> <td>    1.233</td> <td> 0.218</td> <td>   -0.009</td> <td>    0.040</td>\n",
       "</tr>\n",
       "</table>\n",
       "<table class=\"simpletable\">\n",
       "<caption>Roots</caption>\n",
       "<tr>\n",
       "    <td></td>   <th>            Real</th>  <th>         Imaginary</th> <th>         Modulus</th>  <th>        Frequency</th>\n",
       "</tr>\n",
       "<tr>\n",
       "  <th>AR.1</th> <td>           1.1383</td> <td>          -1.0185j</td> <td>           1.5274</td> <td>          -0.1162</td>\n",
       "</tr>\n",
       "<tr>\n",
       "  <th>AR.2</th> <td>           1.1383</td> <td>          +1.0185j</td> <td>           1.5274</td> <td>           0.1162</td>\n",
       "</tr>\n",
       "<tr>\n",
       "  <th>AR.3</th> <td>           2.0478</td> <td>          -0.0000j</td> <td>           2.0478</td> <td>          -0.0000</td>\n",
       "</tr>\n",
       "<tr>\n",
       "  <th>AR.4</th> <td>          -0.0787</td> <td>          -1.4704j</td> <td>           1.4725</td> <td>          -0.2585</td>\n",
       "</tr>\n",
       "<tr>\n",
       "  <th>AR.5</th> <td>          -0.0787</td> <td>          +1.4704j</td> <td>           1.4725</td> <td>           0.2585</td>\n",
       "</tr>\n",
       "<tr>\n",
       "  <th>AR.6</th> <td>          -1.5143</td> <td>          -1.2114j</td> <td>           1.9392</td> <td>          -0.3926</td>\n",
       "</tr>\n",
       "<tr>\n",
       "  <th>AR.7</th> <td>          -1.5143</td> <td>          +1.2114j</td> <td>           1.9392</td> <td>           0.3926</td>\n",
       "</tr>\n",
       "<tr>\n",
       "  <th>AR.8</th> <td>          -1.6501</td> <td>          -0.0000j</td> <td>           1.6501</td> <td>          -0.5000</td>\n",
       "</tr>\n",
       "</table>"
      ],
      "text/plain": [
       "<class 'statsmodels.iolib.summary.Summary'>\n",
       "\"\"\"\n",
       "                              ARMA Model Results                              \n",
       "==============================================================================\n",
       "Dep. Variable:            ftseReturns   No. Observations:                 6276\n",
       "Model:                     ARMA(8, 0)   Log Likelihood               -9557.521\n",
       "Method:                       css-mle   S.D. of innovations              1.110\n",
       "Date:                Thu, 16 Apr 2020   AIC                          19135.042\n",
       "Time:                        13:02:15   BIC                          19202.487\n",
       "Sample:                    01-10-1994   HQIC                         19158.410\n",
       "                         - 01-29-2018                                         \n",
       "=====================================================================================\n",
       "                        coef    std err          z      P>|z|      [0.025      0.975]\n",
       "-------------------------------------------------------------------------------------\n",
       "const                 0.0190      0.012      1.606      0.108      -0.004       0.042\n",
       "ar.L1.ftseReturns    -0.0198      0.013     -1.570      0.116      -0.045       0.005\n",
       "ar.L2.ftseReturns    -0.0500      0.013     -3.964      0.000      -0.075      -0.025\n",
       "ar.L3.ftseReturns    -0.0715      0.013     -5.660      0.000      -0.096      -0.047\n",
       "ar.L4.ftseReturns     0.0277      0.013      2.188      0.029       0.003       0.052\n",
       "ar.L5.ftseReturns    -0.0569      0.013     -4.497      0.000      -0.082      -0.032\n",
       "ar.L6.ftseReturns    -0.0351      0.013     -2.778      0.005      -0.060      -0.010\n",
       "ar.L7.ftseReturns     0.0080      0.013      0.631      0.528      -0.017       0.033\n",
       "ar.L8.ftseReturns     0.0156      0.013      1.233      0.218      -0.009       0.040\n",
       "                                    Roots                                    \n",
       "=============================================================================\n",
       "                  Real          Imaginary           Modulus         Frequency\n",
       "-----------------------------------------------------------------------------\n",
       "AR.1            1.1383           -1.0185j            1.5274           -0.1162\n",
       "AR.2            1.1383           +1.0185j            1.5274            0.1162\n",
       "AR.3            2.0478           -0.0000j            2.0478           -0.0000\n",
       "AR.4           -0.0787           -1.4704j            1.4725           -0.2585\n",
       "AR.5           -0.0787           +1.4704j            1.4725            0.2585\n",
       "AR.6           -1.5143           -1.2114j            1.9392           -0.3926\n",
       "AR.7           -1.5143           +1.2114j            1.9392            0.3926\n",
       "AR.8           -1.6501           -0.0000j            1.6501           -0.5000\n",
       "-----------------------------------------------------------------------------\n",
       "\"\"\""
      ]
     },
     "execution_count": 29,
     "metadata": {},
     "output_type": "execute_result"
    }
   ],
   "source": [
    "model_ar_8 = ARMA(df['ftseReturns'],order=(8,0))\n",
    "results_ar_8 = model_ar_8.fit()\n",
    "results_ar_8.summary()"
   ]
  },
  {
   "cell_type": "code",
   "execution_count": 30,
   "metadata": {},
   "outputs": [
    {
     "data": {
      "text/plain": [
       "0.3893472970196103"
      ]
     },
     "execution_count": 30,
     "metadata": {},
     "output_type": "execute_result"
    }
   ],
   "source": [
    "llrTest(model_ar_6,model_ar_8,df_difference=2)"
   ]
  },
  {
   "cell_type": "markdown",
   "metadata": {},
   "source": [
    "## The best fitting auto regression model for FTSE returns was AR(6) Model for Returns ##"
   ]
  },
  {
   "cell_type": "markdown",
   "metadata": {},
   "source": [
    "## Resiadual Analysis ##"
   ]
  },
  {
   "cell_type": "code",
   "execution_count": 31,
   "metadata": {},
   "outputs": [],
   "source": [
    "df['ftseResiduals'] = results_ar_6.resid"
   ]
  },
  {
   "cell_type": "code",
   "execution_count": 32,
   "metadata": {},
   "outputs": [],
   "source": [
    "newdf = df[6:]"
   ]
  },
  {
   "cell_type": "code",
   "execution_count": 33,
   "metadata": {},
   "outputs": [
    {
     "data": {
      "text/plain": [
       "0.00019857454397313924"
      ]
     },
     "execution_count": 33,
     "metadata": {},
     "output_type": "execute_result"
    }
   ],
   "source": [
    "newdf['ftseResiduals'].mean()"
   ]
  },
  {
   "cell_type": "code",
   "execution_count": 34,
   "metadata": {},
   "outputs": [
    {
     "data": {
      "text/plain": [
       "1.2321993059611387"
      ]
     },
     "execution_count": 34,
     "metadata": {},
     "output_type": "execute_result"
    }
   ],
   "source": [
    "newdf['ftseResiduals'].var()"
   ]
  },
  {
   "cell_type": "code",
   "execution_count": 35,
   "metadata": {},
   "outputs": [
    {
     "data": {
      "text/plain": [
       "<matplotlib.axes._subplots.AxesSubplot at 0x12305ec90>"
      ]
     },
     "execution_count": 35,
     "metadata": {},
     "output_type": "execute_result"
    },
    {
     "data": {
      "image/png": "[encoded data removed]",
      "text/plain": [
       "<Figure size 1080x288 with 1 Axes>"
      ]
     },
     "metadata": {
      "needs_background": "light"
     },
     "output_type": "display_data"
    }
   ],
   "source": [
    "newdf['ftseResiduals'].plot(figsize=(15,4))"
   ]
  },
  {
   "cell_type": "code",
   "execution_count": 36,
   "metadata": {},
   "outputs": [
    {
     "data": {
      "text/plain": [
       "(-14.984728014497765,\n",
       " 1.1483090717890715e-27,\n",
       " 34,\n",
       " 6235,\n",
       " {'1%': -3.4313992372517417,\n",
       "  '5%': -2.862003669623052,\n",
       "  '10%': -2.5670168084236167},\n",
       " 19010.137269252024)"
      ]
     },
     "execution_count": 36,
     "metadata": {},
     "output_type": "execute_result"
    }
   ],
   "source": [
    "#This is stantionary\n",
    "sts.adfuller(newdf['ftseResiduals'])"
   ]
  },
  {
   "cell_type": "code",
   "execution_count": 37,
   "metadata": {},
   "outputs": [
    {
     "data": {
      "text/plain": [
       "(-1.5870996932038615,\n",
       " 0.4900704664019161,\n",
       " 6,\n",
       " 6269,\n",
       " {'1%': -3.4313935443677157,\n",
       "  '5%': -2.8620011543157835,\n",
       "  '10%': -2.5670154694652805},\n",
       " 68466.8899210519)"
      ]
     },
     "execution_count": 37,
     "metadata": {},
     "output_type": "execute_result"
    }
   ],
   "source": [
    "#This is stantionary, close enough to 0\n",
    "sts.adfuller(df['ftse'])"
   ]
  },
  {
   "cell_type": "code",
   "execution_count": null,
   "metadata": {},
   "outputs": [],
   "source": []
  }
 ],
 "metadata": {
  "kernelspec": {
   "display_name": "Python 3",
   "language": "python",
   "name": "python3"
  },
  "language_info": {
   "codemirror_mode": {
    "name": "ipython",
    "version": 3
   },
   "file_extension": ".py",
   "mimetype": "text/x-python",
   "name": "python",
   "nbconvert_exporter": "python",
   "pygments_lexer": "ipython3",
   "version": "3.7.4"
  }
 },
 "nbformat": 4,
 "nbformat_minor": 2
}
