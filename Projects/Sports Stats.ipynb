{
 "cells": [
  {
   "cell_type": "markdown",
   "metadata": {},
   "source": [
    "# Topic: Predicting the 1,500 Meters Run's Finishing Times Using Olympic Data"
   ]
  },
  {
   "cell_type": "markdown",
   "metadata": {},
   "source": [
    "# 1. Background and Introduction\n",
    "During the 120 history of the Olympic games there is only one race every 4 years. The question that I am trying to answer is can I predict finishing time instead of based on the explanatory variables using regression modeling. I want to build a model that can predict a runner’s finishing time. I will use correlation to determine the effect age, height, or weight has on the 1,500-meter event. My explanatory variables are sex (categorical), age (numerical), height (numerical), weight (numerical), the team (categorical), and year (numerical). My data comes from www.sports-reference.com. "
   ]
  },
  {
   "cell_type": "markdown",
   "metadata": {},
   "source": [
    "# 2. Data and Exploratory Analysis"
   ]
  },
  {
   "cell_type": "code",
   "execution_count": 1,
   "metadata": {},
   "outputs": [],
   "source": [
    "import pandas as pd\n",
    "import numpy as np\n",
    "import matplotlib.pyplot as plt\n",
    "import time\n",
    "from datetime import datetime\n",
    "import seaborn as sns\n",
    "import statsmodels.api as sm\n",
    "from sklearn import metrics\n",
    "from sklearn.metrics import mean_squared_error\n",
    "from scipy.stats.stats import pearsonr"
   ]
  },
  {
   "cell_type": "code",
   "execution_count": 2,
   "metadata": {},
   "outputs": [],
   "source": [
    "raw_data = pd.read_excel(\"StatsData.xlsx\")"
   ]
  },
  {
   "cell_type": "code",
   "execution_count": 3,
   "metadata": {},
   "outputs": [],
   "source": [
    "df = raw_data.copy()"
   ]
  },
  {
   "cell_type": "markdown",
   "metadata": {},
   "source": [
    "My sample size began as 123. This sample includes every athlete that completed in the Olympic 1,500 from 1896-2016. Since, I wanted to prdeict the winning time for the male and female 1,500, I excluded all runners that did not receive a medal."
   ]
  },
  {
   "cell_type": "code",
   "execution_count": 4,
   "metadata": {},
   "outputs": [
    {
     "data": {
      "text/plain": [
       "(123, 10)"
      ]
     },
     "execution_count": 4,
     "metadata": {},
     "output_type": "execute_result"
    }
   ],
   "source": [
    "df.shape"
   ]
  },
  {
   "cell_type": "markdown",
   "metadata": {},
   "source": [
    "# 2.a Data \n",
    "For my analysis, I used an Olympic dataset for male and female runners from 1896 to 2016 that placed, which includes 123 cases, each case representing a runner who ran at the Olympics in the 1,500 meters race. Some limitations include that the data are dependent on summary information recorded on www.sports-reference.com. I used data from 1896 to 2016 because it wanted to look at the 120 year history of the 1,500 meters race in the Olympics. The four predictors that I wanted to investigate were sex, height(cm), weight(kg), and time in mintues. The first one was dichotomous, while the other three are quantitative variables. Sex is a dichotomous variable that only exist in one of two categories. "
   ]
  },
  {
   "cell_type": "code",
   "execution_count": 5,
   "metadata": {},
   "outputs": [
    {
     "data": {
      "text/html": [
       "<div>\n",
       "<style scoped>\n",
       "    .dataframe tbody tr th:only-of-type {\n",
       "        vertical-align: middle;\n",
       "    }\n",
       "\n",
       "    .dataframe tbody tr th {\n",
       "        vertical-align: top;\n",
       "    }\n",
       "\n",
       "    .dataframe thead th {\n",
       "        text-align: right;\n",
       "    }\n",
       "</style>\n",
       "<table border=\"1\" class=\"dataframe\">\n",
       "  <thead>\n",
       "    <tr style=\"text-align: right;\">\n",
       "      <th></th>\n",
       "      <th>Name</th>\n",
       "      <th>Sex</th>\n",
       "      <th>Age</th>\n",
       "      <th>Height</th>\n",
       "      <th>Weight</th>\n",
       "      <th>Country</th>\n",
       "      <th>Year</th>\n",
       "      <th>City</th>\n",
       "      <th>Medal</th>\n",
       "      <th>Time</th>\n",
       "    </tr>\n",
       "  </thead>\n",
       "  <tbody>\n",
       "    <tr>\n",
       "      <th>0</th>\n",
       "      <td>Edwin Harold \"Teddy\" Flack</td>\n",
       "      <td>M</td>\n",
       "      <td>22</td>\n",
       "      <td>NaN</td>\n",
       "      <td>NaN</td>\n",
       "      <td>AUS</td>\n",
       "      <td>1896</td>\n",
       "      <td>Athina</td>\n",
       "      <td>Gold</td>\n",
       "      <td>00:04:33</td>\n",
       "    </tr>\n",
       "    <tr>\n",
       "      <th>1</th>\n",
       "      <td>Albin Georges Lermusiaux</td>\n",
       "      <td>M</td>\n",
       "      <td>21</td>\n",
       "      <td>NaN</td>\n",
       "      <td>NaN</td>\n",
       "      <td>FRA</td>\n",
       "      <td>1896</td>\n",
       "      <td>Athina</td>\n",
       "      <td>Bronze</td>\n",
       "      <td>00:04:36</td>\n",
       "    </tr>\n",
       "    <tr>\n",
       "      <th>2</th>\n",
       "      <td>Arthur Charles Blake</td>\n",
       "      <td>M</td>\n",
       "      <td>24</td>\n",
       "      <td>NaN</td>\n",
       "      <td>NaN</td>\n",
       "      <td>USA</td>\n",
       "      <td>1896</td>\n",
       "      <td>Athina</td>\n",
       "      <td>Silver</td>\n",
       "      <td>04:34</td>\n",
       "    </tr>\n",
       "    <tr>\n",
       "      <th>3</th>\n",
       "      <td>Henry Lon mile Deloge</td>\n",
       "      <td>M</td>\n",
       "      <td>25</td>\n",
       "      <td>NaN</td>\n",
       "      <td>NaN</td>\n",
       "      <td>FRA</td>\n",
       "      <td>1900</td>\n",
       "      <td>Paris</td>\n",
       "      <td>Silver</td>\n",
       "      <td>00:04:07</td>\n",
       "    </tr>\n",
       "    <tr>\n",
       "      <th>4</th>\n",
       "      <td>Charles Bennett</td>\n",
       "      <td>M</td>\n",
       "      <td>29</td>\n",
       "      <td>NaN</td>\n",
       "      <td>NaN</td>\n",
       "      <td>GBR</td>\n",
       "      <td>1900</td>\n",
       "      <td>Paris</td>\n",
       "      <td>Gold</td>\n",
       "      <td>00:04:06</td>\n",
       "    </tr>\n",
       "    <tr>\n",
       "      <th>5</th>\n",
       "      <td>John Bray</td>\n",
       "      <td>M</td>\n",
       "      <td>24</td>\n",
       "      <td>NaN</td>\n",
       "      <td>NaN</td>\n",
       "      <td>USA</td>\n",
       "      <td>1900</td>\n",
       "      <td>Paris</td>\n",
       "      <td>Bronze</td>\n",
       "      <td>00:04:07</td>\n",
       "    </tr>\n",
       "    <tr>\n",
       "      <th>6</th>\n",
       "      <td>Lacey Earnest Hearn</td>\n",
       "      <td>M</td>\n",
       "      <td>23</td>\n",
       "      <td>NaN</td>\n",
       "      <td>NaN</td>\n",
       "      <td>USA</td>\n",
       "      <td>1904</td>\n",
       "      <td>St. Louis</td>\n",
       "      <td>Bronze</td>\n",
       "      <td>NaN</td>\n",
       "    </tr>\n",
       "    <tr>\n",
       "      <th>7</th>\n",
       "      <td>James Davies \"Jim\" Lightbody</td>\n",
       "      <td>M</td>\n",
       "      <td>22</td>\n",
       "      <td>173.0</td>\n",
       "      <td>61.0</td>\n",
       "      <td>USA</td>\n",
       "      <td>1904</td>\n",
       "      <td>St. Louis</td>\n",
       "      <td>Gold</td>\n",
       "      <td>00:04:05</td>\n",
       "    </tr>\n",
       "    <tr>\n",
       "      <th>8</th>\n",
       "      <td>William Franklyn \"Bill\" Verner</td>\n",
       "      <td>M</td>\n",
       "      <td>21</td>\n",
       "      <td>NaN</td>\n",
       "      <td>NaN</td>\n",
       "      <td>USA</td>\n",
       "      <td>1904</td>\n",
       "      <td>St. Louis</td>\n",
       "      <td>Silver</td>\n",
       "      <td>04:06</td>\n",
       "    </tr>\n",
       "    <tr>\n",
       "      <th>9</th>\n",
       "      <td>John McGough</td>\n",
       "      <td>M</td>\n",
       "      <td>25</td>\n",
       "      <td>NaN</td>\n",
       "      <td>NaN</td>\n",
       "      <td>GBR</td>\n",
       "      <td>1906</td>\n",
       "      <td>Athina</td>\n",
       "      <td>Silver</td>\n",
       "      <td>00:04:12.600000</td>\n",
       "    </tr>\n",
       "  </tbody>\n",
       "</table>\n",
       "</div>"
      ],
      "text/plain": [
       "                             Name Sex  Age  Height  Weight Country  Year  \\\n",
       "0      Edwin Harold \"Teddy\" Flack   M   22     NaN     NaN     AUS  1896   \n",
       "1        Albin Georges Lermusiaux   M   21     NaN     NaN     FRA  1896   \n",
       "2            Arthur Charles Blake   M   24     NaN     NaN     USA  1896   \n",
       "3           Henry Lon mile Deloge   M   25     NaN     NaN     FRA  1900   \n",
       "4                 Charles Bennett   M   29     NaN     NaN     GBR  1900   \n",
       "5                       John Bray   M   24     NaN     NaN     USA  1900   \n",
       "6             Lacey Earnest Hearn   M   23     NaN     NaN     USA  1904   \n",
       "7    James Davies \"Jim\" Lightbody   M   22   173.0    61.0     USA  1904   \n",
       "8  William Franklyn \"Bill\" Verner   M   21     NaN     NaN     USA  1904   \n",
       "9                    John McGough   M   25     NaN     NaN     GBR  1906   \n",
       "\n",
       "        City   Medal             Time  \n",
       "0     Athina    Gold         00:04:33  \n",
       "1     Athina  Bronze         00:04:36  \n",
       "2     Athina  Silver            04:34  \n",
       "3      Paris  Silver         00:04:07  \n",
       "4      Paris    Gold         00:04:06  \n",
       "5      Paris  Bronze         00:04:07  \n",
       "6  St. Louis  Bronze              NaN  \n",
       "7  St. Louis    Gold         00:04:05  \n",
       "8  St. Louis  Silver            04:06  \n",
       "9     Athina  Silver  00:04:12.600000  "
      ]
     },
     "execution_count": 5,
     "metadata": {},
     "output_type": "execute_result"
    }
   ],
   "source": [
    "df.head(10)"
   ]
  },
  {
   "cell_type": "markdown",
   "metadata": {},
   "source": [
    "Out of the 123 cases, there were missing vaules for heirght(10), weight(10), and time(2). Since, my analyis depends on those varibles, I will exclude runners with missing data from the dataset."
   ]
  },
  {
   "cell_type": "code",
   "execution_count": 6,
   "metadata": {},
   "outputs": [
    {
     "data": {
      "text/plain": [
       "Name        0\n",
       "Sex         0\n",
       "Age         0\n",
       "Height     10\n",
       "Weight     10\n",
       "Country     0\n",
       "Year        0\n",
       "City        0\n",
       "Medal       0\n",
       "Time        2\n",
       "dtype: int64"
      ]
     },
     "execution_count": 6,
     "metadata": {},
     "output_type": "execute_result"
    }
   ],
   "source": [
    "df.isnull().sum()"
   ]
  },
  {
   "cell_type": "markdown",
   "metadata": {},
   "source": [
    "After dropping the null or NaN values, I am left with a dataset of 112 cases."
   ]
  },
  {
   "cell_type": "code",
   "execution_count": 7,
   "metadata": {},
   "outputs": [
    {
     "data": {
      "text/plain": [
       "(112, 10)"
      ]
     },
     "execution_count": 7,
     "metadata": {},
     "output_type": "execute_result"
    }
   ],
   "source": [
    "df = df.dropna()\n",
    "df.shape"
   ]
  },
  {
   "cell_type": "markdown",
   "metadata": {},
   "source": [
    "# 2.b Variables"
   ]
  },
  {
   "cell_type": "markdown",
   "metadata": {},
   "source": [
    "Then I had to format all the varibles for the regression modeling. "
   ]
  },
  {
   "cell_type": "code",
   "execution_count": 8,
   "metadata": {},
   "outputs": [
    {
     "name": "stdout",
     "output_type": "stream",
     "text": [
      "<class 'pandas.core.frame.DataFrame'>\n",
      "Int64Index: 112 entries, 7 to 122\n",
      "Data columns (total 10 columns):\n",
      "Name       112 non-null object\n",
      "Sex        112 non-null object\n",
      "Age        112 non-null int64\n",
      "Height     112 non-null float64\n",
      "Weight     112 non-null float64\n",
      "Country    112 non-null object\n",
      "Year       112 non-null int64\n",
      "City       112 non-null object\n",
      "Medal      112 non-null object\n",
      "Time       112 non-null object\n",
      "dtypes: float64(2), int64(2), object(6)\n",
      "memory usage: 9.6+ KB\n"
     ]
    }
   ],
   "source": [
    "df.info()"
   ]
  },
  {
   "cell_type": "markdown",
   "metadata": {},
   "source": [
    "Before, I formatted the varaibles, I dropped the varibles that I was not looking at like Name, Country, City,and Medal."
   ]
  },
  {
   "cell_type": "code",
   "execution_count": 9,
   "metadata": {},
   "outputs": [],
   "source": [
    "df = df.drop(['Name', 'Country','City', 'Medal'], axis = 1)"
   ]
  },
  {
   "cell_type": "markdown",
   "metadata": {},
   "source": [
    "I began with Time. Time was originally formated as an object. First, I had to format the Time variable into H:M:S."
   ]
  },
  {
   "cell_type": "code",
   "execution_count": 10,
   "metadata": {},
   "outputs": [],
   "source": [
    "df['Time'] = df['Time'].apply(lambda x: x.strftime('%H:%M:%S %Z'))"
   ]
  },
  {
   "cell_type": "markdown",
   "metadata": {},
   "source": [
    "Secondly, I converted Time to a timedelta64[ns] value, this allows me to mulitple Time."
   ]
  },
  {
   "cell_type": "code",
   "execution_count": 11,
   "metadata": {},
   "outputs": [],
   "source": [
    "df['Time']=pd.to_timedelta(df['Time'])"
   ]
  },
  {
   "cell_type": "markdown",
   "metadata": {},
   "source": [
    "This allowed me to converted time into minutes. Now that the time is in minutes, I can use pearson correlation later in the anylasis."
   ]
  },
  {
   "cell_type": "code",
   "execution_count": 12,
   "metadata": {},
   "outputs": [],
   "source": [
    "df['Time'] = ((df['Time'].dt.components.minutes + df['Time'].dt.components.seconds*0.0166667))"
   ]
  },
  {
   "cell_type": "markdown",
   "metadata": {},
   "source": [
    "I had to change Height from a float to an interger for the multiple linear regression model."
   ]
  },
  {
   "cell_type": "code",
   "execution_count": 13,
   "metadata": {},
   "outputs": [],
   "source": [
    "df[\"Height\"] = df[\"Height\"].astype(int)"
   ]
  },
  {
   "cell_type": "markdown",
   "metadata": {},
   "source": [
    "I had to changed the unit of measurment for the Weight variable from kg to lbs. I had to change Weight from a float to an interger for the multiple linear regression model."
   ]
  },
  {
   "cell_type": "code",
   "execution_count": 14,
   "metadata": {},
   "outputs": [],
   "source": [
    "df['Weight'] = 2.20462 * df['Weight']\n",
    "df[\"Weight\"] = df[\"Weight\"].astype(int)"
   ]
  },
  {
   "cell_type": "markdown",
   "metadata": {},
   "source": [
    "I wanted to see the progression of runner's times over the years. There seems to a decrase in time from 1864 to 1960. Form 1960 t0 2016 there seems to be a great deal of variability."
   ]
  },
  {
   "cell_type": "code",
   "execution_count": 15,
   "metadata": {},
   "outputs": [
    {
     "data": {
      "image/png": "[encoded data removed]",
      "text/plain": [
       "<Figure size 720x432 with 1 Axes>"
      ]
     },
     "metadata": {
      "needs_background": "light"
     },
     "output_type": "display_data"
    }
   ],
   "source": [
    "df.plot(kind='line', x='Year', y='Time', figsize=(10, 6), color='darkblue')\n",
    " \n",
    "plt.title('Finishing Times from 1896 to 2016')\n",
    "plt.xlabel('Year')\n",
    "plt.ylabel('Time (min)')\n",
    " \n",
    "plt.show()"
   ]
  },
  {
   "cell_type": "markdown",
   "metadata": {},
   "source": [
    "Since women didn't start racing until 1972, that could be the reason for the variability. Therefore, I separted the dataset for male and female athltets for later analysis."
   ]
  },
  {
   "cell_type": "code",
   "execution_count": 16,
   "metadata": {},
   "outputs": [],
   "source": [
    "# All the female atheles are in this dataframe\n",
    "female = df[df['Sex']=='F']\n",
    "# All the male atheles are in this dataframe\n",
    "male = df[df['Sex']=='M']"
   ]
  },
  {
   "cell_type": "markdown",
   "metadata": {},
   "source": [
    "I converted Sex into numbers so that they could be included in the persaons correlation."
   ]
  },
  {
   "cell_type": "code",
   "execution_count": 17,
   "metadata": {},
   "outputs": [],
   "source": [
    "sex_mapping = {\"M\": 0, \"F\": 1}"
   ]
  },
  {
   "cell_type": "code",
   "execution_count": 18,
   "metadata": {},
   "outputs": [],
   "source": [
    "df['Sex'] = df['Sex'].map(sex_mapping)"
   ]
  },
  {
   "cell_type": "markdown",
   "metadata": {},
   "source": [
    "I set the index to Year so when I do future analysis it corresonds to a year."
   ]
  },
  {
   "cell_type": "code",
   "execution_count": 19,
   "metadata": {},
   "outputs": [],
   "source": [
    "df.set_index('Year', inplace=True)"
   ]
  },
  {
   "cell_type": "markdown",
   "metadata": {},
   "source": [
    "In summary:\n",
    "    * Time is in minutes\n",
    "    * Height is in centimeters\n",
    "    * Weight is in pounds\n",
    "    * Age is in years\n",
    "    * Sex, males are 0 and females are 1"
   ]
  },
  {
   "cell_type": "markdown",
   "metadata": {},
   "source": [
    "# 2.c Univariate analyses  \n",
    "\n",
    "The dataset contains 112 cases and no missing data. \n",
    "* For Age, the median (50%) value is 25 years old, the range is (35-19) 16 years, and the standard deviation is 3.514 years.\n",
    "* For Height, the median (50%) value is 173.5 centimeters, the range is (191-153) 38 centimeters, and the standard deviation is 7.974 centimeters.\n",
    "* For Time, the median (50%) value is 3.833 minutes, the range is (4.217-3.533) 0.684 minutes, and the standard deviation is 0.206 minutes.\n",
    "* For Weight, the median (50%) value is 135.58 pounds, the range is (176.370-92.594) 83.776 pounds, and the standard deviation is 18.114 pounds."
   ]
  },
  {
   "cell_type": "code",
   "execution_count": 20,
   "metadata": {},
   "outputs": [
    {
     "data": {
      "text/html": [
       "<div>\n",
       "<style scoped>\n",
       "    .dataframe tbody tr th:only-of-type {\n",
       "        vertical-align: middle;\n",
       "    }\n",
       "\n",
       "    .dataframe tbody tr th {\n",
       "        vertical-align: top;\n",
       "    }\n",
       "\n",
       "    .dataframe thead th {\n",
       "        text-align: right;\n",
       "    }\n",
       "</style>\n",
       "<table border=\"1\" class=\"dataframe\">\n",
       "  <thead>\n",
       "    <tr style=\"text-align: right;\">\n",
       "      <th></th>\n",
       "      <th>Sex</th>\n",
       "      <th>Age</th>\n",
       "      <th>Height</th>\n",
       "      <th>Weight</th>\n",
       "      <th>Time</th>\n",
       "    </tr>\n",
       "  </thead>\n",
       "  <tbody>\n",
       "    <tr>\n",
       "      <th>count</th>\n",
       "      <td>112.000000</td>\n",
       "      <td>112.000000</td>\n",
       "      <td>112.000000</td>\n",
       "      <td>112.000000</td>\n",
       "      <td>112.000000</td>\n",
       "    </tr>\n",
       "    <tr>\n",
       "      <th>mean</th>\n",
       "      <td>0.321429</td>\n",
       "      <td>25.330357</td>\n",
       "      <td>173.633929</td>\n",
       "      <td>134.535714</td>\n",
       "      <td>3.830358</td>\n",
       "    </tr>\n",
       "    <tr>\n",
       "      <th>std</th>\n",
       "      <td>0.469124</td>\n",
       "      <td>3.514163</td>\n",
       "      <td>7.974052</td>\n",
       "      <td>18.092320</td>\n",
       "      <td>0.206321</td>\n",
       "    </tr>\n",
       "    <tr>\n",
       "      <th>min</th>\n",
       "      <td>0.000000</td>\n",
       "      <td>19.000000</td>\n",
       "      <td>153.000000</td>\n",
       "      <td>92.000000</td>\n",
       "      <td>3.533334</td>\n",
       "    </tr>\n",
       "    <tr>\n",
       "      <th>25%</th>\n",
       "      <td>0.000000</td>\n",
       "      <td>23.000000</td>\n",
       "      <td>168.750000</td>\n",
       "      <td>122.500000</td>\n",
       "      <td>3.633335</td>\n",
       "    </tr>\n",
       "    <tr>\n",
       "      <th>50%</th>\n",
       "      <td>0.000000</td>\n",
       "      <td>25.000000</td>\n",
       "      <td>173.500000</td>\n",
       "      <td>135.000000</td>\n",
       "      <td>3.833335</td>\n",
       "    </tr>\n",
       "    <tr>\n",
       "      <th>75%</th>\n",
       "      <td>1.000000</td>\n",
       "      <td>27.000000</td>\n",
       "      <td>180.000000</td>\n",
       "      <td>147.500000</td>\n",
       "      <td>4.016667</td>\n",
       "    </tr>\n",
       "    <tr>\n",
       "      <th>max</th>\n",
       "      <td>1.000000</td>\n",
       "      <td>35.000000</td>\n",
       "      <td>191.000000</td>\n",
       "      <td>176.000000</td>\n",
       "      <td>4.216667</td>\n",
       "    </tr>\n",
       "  </tbody>\n",
       "</table>\n",
       "</div>"
      ],
      "text/plain": [
       "              Sex         Age      Height      Weight        Time\n",
       "count  112.000000  112.000000  112.000000  112.000000  112.000000\n",
       "mean     0.321429   25.330357  173.633929  134.535714    3.830358\n",
       "std      0.469124    3.514163    7.974052   18.092320    0.206321\n",
       "min      0.000000   19.000000  153.000000   92.000000    3.533334\n",
       "25%      0.000000   23.000000  168.750000  122.500000    3.633335\n",
       "50%      0.000000   25.000000  173.500000  135.000000    3.833335\n",
       "75%      1.000000   27.000000  180.000000  147.500000    4.016667\n",
       "max      1.000000   35.000000  191.000000  176.000000    4.216667"
      ]
     },
     "execution_count": 20,
     "metadata": {},
     "output_type": "execute_result"
    }
   ],
   "source": [
    "df.describe()"
   ]
  },
  {
   "cell_type": "markdown",
   "metadata": {},
   "source": [
    "Sex is dichotomous so I looked at the mode. 0 is the most frequently occurring value for Sex. Therefore, it is the mode of the data set. Since 0 reprsents males, there are more males in the dataset then females. The count indicates that there are 76 males in the dataset. This makes sense that there are more males because females did not start competing in th 1,500 until 1972."
   ]
  },
  {
   "cell_type": "code",
   "execution_count": 21,
   "metadata": {},
   "outputs": [
    {
     "data": {
      "text/plain": [
       "ModeResult(mode=array([0]), count=array([76]))"
      ]
     },
     "execution_count": 21,
     "metadata": {},
     "output_type": "execute_result"
    }
   ],
   "source": [
    "from scipy import stats\n",
    "stats.mode(df['Sex'])"
   ]
  },
  {
   "cell_type": "markdown",
   "metadata": {},
   "source": [
    "I looked at the shape of my variables. I did not interpate the shape for Sex because it is a dichotomous variable.\n",
    "* For Age, the distribution unimodal and positively (right) skewed.\n",
    "* For Height, the distribution unimodal and roughly symmetric.\n",
    "* For Time, the distribution unimodal and positively (right) skewed. \n",
    "* For Weight, the distribution unimodal and roughly symmetric. "
   ]
  },
  {
   "cell_type": "code",
   "execution_count": 22,
   "metadata": {},
   "outputs": [
    {
     "data": {
      "image/png": "[encoded data removed]",
      "text/plain": [
       "<Figure size 1440x1080 with 6 Axes>"
      ]
     },
     "metadata": {
      "needs_background": "light"
     },
     "output_type": "display_data"
    }
   ],
   "source": [
    "%matplotlib inline\n",
    "import matplotlib.pyplot as plt\n",
    "df.hist(bins=50, figsize=(20,15))\n",
    "plt.show()"
   ]
  },
  {
   "cell_type": "markdown",
   "metadata": {},
   "source": [
    "# 2.d Exploratory Data Analysis\n",
    "\n",
    "I began by calculating Pearson correlation for the other varibles in relation to time in minutes. "
   ]
  },
  {
   "cell_type": "markdown",
   "metadata": {},
   "source": [
    "In the exploratory data analysis, the most notable finding was the strong positive correlation (r = 0.665) between Time(mintues) and Sex. There is a strong negative correlation (r = -0.557) between Time(mintues) and Height(cm). There is a moderate negative correlation (r = -0.459) between Time(mintues) and Weight(lbs). There is a weak positive correlation (r = 0.147) between Time(mintues) and Age(years). Age(years) and Weight(lbs) will be removed from the model becuse they do not have a strong correlation with Time(minutes). The rest of the varaibles will remain in the model."
   ]
  },
  {
   "cell_type": "code",
   "execution_count": 23,
   "metadata": {},
   "outputs": [
    {
     "data": {
      "text/plain": [
       "Time      1.000000\n",
       "Sex       0.664617\n",
       "Age       0.147573\n",
       "Weight   -0.458566\n",
       "Height   -0.556742\n",
       "Name: Time, dtype: float64"
      ]
     },
     "execution_count": 23,
     "metadata": {},
     "output_type": "execute_result"
    }
   ],
   "source": [
    "corr_matrix = df.corr()\n",
    "corr_matrix['Time'].sort_values(ascending=False)"
   ]
  },
  {
   "cell_type": "markdown",
   "metadata": {},
   "source": [
    "Males run faster in the 1,500 meters race than female, on average."
   ]
  },
  {
   "cell_type": "code",
   "execution_count": 24,
   "metadata": {},
   "outputs": [
    {
     "data": {
      "text/plain": [
       "Text(0.5, 0.98, 'The Effect of Sex on Finishing Times')"
      ]
     },
     "execution_count": 24,
     "metadata": {},
     "output_type": "execute_result"
    },
    {
     "data": {
      "image/png": "[encoded data removed]",
      "text/plain": [
       "<Figure size 360x360 with 1 Axes>"
      ]
     },
     "metadata": {
      "needs_background": "light"
     },
     "output_type": "display_data"
    }
   ],
   "source": [
    "a = sns.catplot(x='Sex', y='Time', data=df, kind='box')\n",
    "(a.set_axis_labels(\"Sex\",\"Time (min)\")\n",
    "  .set_xticklabels([\"Males\", \"Females\"])\n",
    "  .despine(left=True))\n",
    "a.fig.suptitle('The Effect of Sex on Finishing Times') "
   ]
  },
  {
   "cell_type": "markdown",
   "metadata": {},
   "source": [
    "Runners that are taller tend to run faster times than shorter runners and shorter runners tend to run slower times."
   ]
  },
  {
   "cell_type": "code",
   "execution_count": 25,
   "metadata": {},
   "outputs": [
    {
     "data": {
      "text/plain": [
       "Text(0.5, 0.98, 'The Effect of Height on Finishing Times')"
      ]
     },
     "execution_count": 25,
     "metadata": {},
     "output_type": "execute_result"
    },
    {
     "data": {
      "image/png": "[encoded data removed]",
      "text/plain": [
       "<Figure size 432x432 with 3 Axes>"
      ]
     },
     "metadata": {
      "needs_background": "light"
     },
     "output_type": "display_data"
    }
   ],
   "source": [
    "b = sns.jointplot(x ='Time', y='Height', data=df)\n",
    "(b.set_axis_labels(\"Time (min)\",\"Height (cm)\"))\n",
    "b.fig.suptitle('The Effect of Height on Finishing Times') "
   ]
  },
  {
   "cell_type": "markdown",
   "metadata": {},
   "source": [
    "Runners that weight more tend to run faster times and lighter runners tend to run slower times."
   ]
  },
  {
   "cell_type": "code",
   "execution_count": 26,
   "metadata": {},
   "outputs": [
    {
     "data": {
      "text/plain": [
       "Text(0.5, 0.98, 'The Effect of Weight on Finishing Times')"
      ]
     },
     "execution_count": 26,
     "metadata": {},
     "output_type": "execute_result"
    },
    {
     "data": {
      "image/png": "[encoded data removed]",
      "text/plain": [
       "<Figure size 432x432 with 3 Axes>"
      ]
     },
     "metadata": {
      "needs_background": "light"
     },
     "output_type": "display_data"
    }
   ],
   "source": [
    "c = sns.jointplot(x='Time', y='Weight', data=df)\n",
    "(c.set_axis_labels(\"Time (min)\",\"Weight (lbs)\"))\n",
    "c.fig.suptitle('The Effect of Weight on Finishing Times') "
   ]
  },
  {
   "cell_type": "markdown",
   "metadata": {},
   "source": [
    "A weak correlation between Time(mintues) and Age(yrs) was found."
   ]
  },
  {
   "cell_type": "code",
   "execution_count": 27,
   "metadata": {},
   "outputs": [
    {
     "data": {
      "text/plain": [
       "Text(0.5, 0.98, 'The Effect of Age on Finishing Times')"
      ]
     },
     "execution_count": 27,
     "metadata": {},
     "output_type": "execute_result"
    },
    {
     "data": {
      "image/png": "[encoded data removed]",
      "text/plain": [
       "<Figure size 432x432 with 3 Axes>"
      ]
     },
     "metadata": {
      "needs_background": "light"
     },
     "output_type": "display_data"
    }
   ],
   "source": [
    "d = sns.jointplot(y='Age', x='Time', data=df)\n",
    "(d.set_axis_labels(\"Time (min)\",\"Age (yrs)\"))\n",
    "d.fig.suptitle('The Effect of Age on Finishing Times') "
   ]
  },
  {
   "cell_type": "markdown",
   "metadata": {},
   "source": [
    "# 3. Multiple linear regression Model \n",
    "I split the data into two sets, one with time in minutes, one without time in minutes. I also dropped Age and Weight from the datasets here since, it will not be used in the model."
   ]
  },
  {
   "cell_type": "code",
   "execution_count": 28,
   "metadata": {},
   "outputs": [],
   "source": [
    "X = df.drop(['Time','Age','Weight'], axis = 1)\n",
    "y = df['Time']"
   ]
  },
  {
   "cell_type": "markdown",
   "metadata": {},
   "source": [
    "# 3.a Analytic Methods\n",
    "\n",
    "Question: Can you predict finishing time by sex, height, and weight of an athlete?\n",
    "\n",
    "In order to predict the outcomes of the runner's times, I used multiple linear regression  modeling. "
   ]
  },
  {
   "cell_type": "code",
   "execution_count": 29,
   "metadata": {},
   "outputs": [],
   "source": [
    "#build training and testing dataset"
   ]
  },
  {
   "cell_type": "code",
   "execution_count": 30,
   "metadata": {},
   "outputs": [],
   "source": [
    "from sklearn.model_selection import train_test_split"
   ]
  },
  {
   "cell_type": "code",
   "execution_count": 31,
   "metadata": {},
   "outputs": [],
   "source": [
    "X_train, X_test, y_train, y_test = train_test_split(X, y, test_size=0.2, random_state=42)"
   ]
  },
  {
   "cell_type": "code",
   "execution_count": 32,
   "metadata": {},
   "outputs": [],
   "source": [
    "import sklearn\n",
    "from sklearn import linear_model"
   ]
  },
  {
   "cell_type": "code",
   "execution_count": 33,
   "metadata": {},
   "outputs": [],
   "source": [
    "# Create linear regression object\n",
    "regr = linear_model.LinearRegression()\n",
    "\n",
    "# Train the model using the training sets\n",
    "regr.fit(X_test, y_test)\n",
    "\n",
    "# Make predictions using the testing set\n",
    "y_pred = regr.predict(X_test)"
   ]
  },
  {
   "cell_type": "markdown",
   "metadata": {},
   "source": [
    "# 3.b Final Model and Results"
   ]
  },
  {
   "cell_type": "code",
   "execution_count": 34,
   "metadata": {},
   "outputs": [
    {
     "data": {
      "text/html": [
       "<div>\n",
       "<style scoped>\n",
       "    .dataframe tbody tr th:only-of-type {\n",
       "        vertical-align: middle;\n",
       "    }\n",
       "\n",
       "    .dataframe tbody tr th {\n",
       "        vertical-align: top;\n",
       "    }\n",
       "\n",
       "    .dataframe thead th {\n",
       "        text-align: right;\n",
       "    }\n",
       "</style>\n",
       "<table border=\"1\" class=\"dataframe\">\n",
       "  <thead>\n",
       "    <tr style=\"text-align: right;\">\n",
       "      <th></th>\n",
       "      <th>actual</th>\n",
       "      <th>prediction</th>\n",
       "    </tr>\n",
       "    <tr>\n",
       "      <th>Year</th>\n",
       "      <th></th>\n",
       "      <th></th>\n",
       "    </tr>\n",
       "  </thead>\n",
       "  <tbody>\n",
       "    <tr>\n",
       "      <th>1972</th>\n",
       "      <td>4.033333</td>\n",
       "      <td>3.986169</td>\n",
       "    </tr>\n",
       "    <tr>\n",
       "      <th>1988</th>\n",
       "      <td>3.600001</td>\n",
       "      <td>3.696885</td>\n",
       "    </tr>\n",
       "    <tr>\n",
       "      <th>1908</th>\n",
       "      <td>4.050000</td>\n",
       "      <td>3.988772</td>\n",
       "    </tr>\n",
       "    <tr>\n",
       "      <th>1976</th>\n",
       "      <td>4.100000</td>\n",
       "      <td>3.986169</td>\n",
       "    </tr>\n",
       "    <tr>\n",
       "      <th>1972</th>\n",
       "      <td>4.033333</td>\n",
       "      <td>4.047619</td>\n",
       "    </tr>\n",
       "    <tr>\n",
       "      <th>1988</th>\n",
       "      <td>4.000000</td>\n",
       "      <td>4.047619</td>\n",
       "    </tr>\n",
       "    <tr>\n",
       "      <th>1952</th>\n",
       "      <td>3.750001</td>\n",
       "      <td>3.819784</td>\n",
       "    </tr>\n",
       "    <tr>\n",
       "      <th>1924</th>\n",
       "      <td>3.883335</td>\n",
       "      <td>3.804422</td>\n",
       "    </tr>\n",
       "    <tr>\n",
       "      <th>1920</th>\n",
       "      <td>4.050000</td>\n",
       "      <td>3.865872</td>\n",
       "    </tr>\n",
       "    <tr>\n",
       "      <th>1972</th>\n",
       "      <td>3.650001</td>\n",
       "      <td>3.620072</td>\n",
       "    </tr>\n",
       "    <tr>\n",
       "      <th>1992</th>\n",
       "      <td>3.666668</td>\n",
       "      <td>3.789059</td>\n",
       "    </tr>\n",
       "    <tr>\n",
       "      <th>1980</th>\n",
       "      <td>3.650001</td>\n",
       "      <td>3.666160</td>\n",
       "    </tr>\n",
       "    <tr>\n",
       "      <th>1988</th>\n",
       "      <td>4.000000</td>\n",
       "      <td>4.139794</td>\n",
       "    </tr>\n",
       "    <tr>\n",
       "      <th>2008</th>\n",
       "      <td>3.566668</td>\n",
       "      <td>3.666160</td>\n",
       "    </tr>\n",
       "    <tr>\n",
       "      <th>1904</th>\n",
       "      <td>4.083334</td>\n",
       "      <td>3.819784</td>\n",
       "    </tr>\n",
       "    <tr>\n",
       "      <th>1932</th>\n",
       "      <td>3.850002</td>\n",
       "      <td>3.881234</td>\n",
       "    </tr>\n",
       "    <tr>\n",
       "      <th>1980</th>\n",
       "      <td>3.633335</td>\n",
       "      <td>3.681522</td>\n",
       "    </tr>\n",
       "    <tr>\n",
       "      <th>1996</th>\n",
       "      <td>4.000000</td>\n",
       "      <td>4.047619</td>\n",
       "    </tr>\n",
       "    <tr>\n",
       "      <th>2012</th>\n",
       "      <td>4.166667</td>\n",
       "      <td>4.078344</td>\n",
       "    </tr>\n",
       "    <tr>\n",
       "      <th>2004</th>\n",
       "      <td>3.566668</td>\n",
       "      <td>3.789059</td>\n",
       "    </tr>\n",
       "    <tr>\n",
       "      <th>1964</th>\n",
       "      <td>3.633335</td>\n",
       "      <td>3.727610</td>\n",
       "    </tr>\n",
       "    <tr>\n",
       "      <th>1924</th>\n",
       "      <td>3.916669</td>\n",
       "      <td>3.620072</td>\n",
       "    </tr>\n",
       "    <tr>\n",
       "      <th>1960</th>\n",
       "      <td>3.583334</td>\n",
       "      <td>3.696885</td>\n",
       "    </tr>\n",
       "  </tbody>\n",
       "</table>\n",
       "</div>"
      ],
      "text/plain": [
       "        actual  prediction\n",
       "Year                      \n",
       "1972  4.033333    3.986169\n",
       "1988  3.600001    3.696885\n",
       "1908  4.050000    3.988772\n",
       "1976  4.100000    3.986169\n",
       "1972  4.033333    4.047619\n",
       "1988  4.000000    4.047619\n",
       "1952  3.750001    3.819784\n",
       "1924  3.883335    3.804422\n",
       "1920  4.050000    3.865872\n",
       "1972  3.650001    3.620072\n",
       "1992  3.666668    3.789059\n",
       "1980  3.650001    3.666160\n",
       "1988  4.000000    4.139794\n",
       "2008  3.566668    3.666160\n",
       "1904  4.083334    3.819784\n",
       "1932  3.850002    3.881234\n",
       "1980  3.633335    3.681522\n",
       "1996  4.000000    4.047619\n",
       "2012  4.166667    4.078344\n",
       "2004  3.566668    3.789059\n",
       "1964  3.633335    3.727610\n",
       "1924  3.916669    3.620072\n",
       "1960  3.583334    3.696885"
      ]
     },
     "execution_count": 34,
     "metadata": {},
     "output_type": "execute_result"
    }
   ],
   "source": [
    "results = pd.DataFrame({\n",
    "    'actual': y_test,\n",
    "    'prediction': y_pred\n",
    "})\n",
    "results"
   ]
  },
  {
   "cell_type": "code",
   "execution_count": 35,
   "metadata": {
    "scrolled": true
   },
   "outputs": [
    {
     "data": {
      "image/png": "[encoded data removed]",
      "text/plain": [
       "<Figure size 432x288 with 1 Axes>"
      ]
     },
     "metadata": {
      "needs_background": "light"
     },
     "output_type": "display_data"
    }
   ],
   "source": [
    "fig, ax = plt.subplots()\n",
    "ax.scatter(y_test, y_pred)\n",
    "ax.plot([y_test.min(), y_test.max()], [y_test.min(), y_test.max()], 'k--', lw=4)\n",
    "ax.set_xlabel('measured time (min)')\n",
    "ax.set_ylabel('predicted time (min)')\n",
    "plt.show()"
   ]
  },
  {
   "cell_type": "markdown",
   "metadata": {},
   "source": [
    "# 4 Conclusion"
   ]
  },
  {
   "cell_type": "markdown",
   "metadata": {},
   "source": [
    "I will now check the predictions against the actual values by using the RMSE metric, a metric commonly used to evaluate regression tasks:"
   ]
  },
  {
   "cell_type": "code",
   "execution_count": 36,
   "metadata": {},
   "outputs": [],
   "source": [
    "test_set_rmse = (np.sqrt(mean_squared_error(y_test, y_pred)))"
   ]
  },
  {
   "cell_type": "markdown",
   "metadata": {},
   "source": [
    "The model is fitting well!!!\n",
    "The RMSE is the square root of the variance of the residuals. It indicates the absolute fit of the model to the data–how close the observed data points are to the model’s predicted values. Whereas R-squared is a relative measure of fit, RMSE is an absolute measure of fit. As the square root of a variance, RMSE can be interpreted as the standard deviation of the unexplained variance, and has the useful property of being in the same units as the response variable. Lower values of RMSE indicate better fit. RMSE is a good measure of how accurately the model predicts the response, and it is the most important criterion for fit if the main purpose of the model is prediction."
   ]
  },
  {
   "cell_type": "code",
   "execution_count": 37,
   "metadata": {},
   "outputs": [
    {
     "name": "stdout",
     "output_type": "stream",
     "text": [
      "0.12569797099237356\n"
     ]
    }
   ],
   "source": [
    "print(test_set_rmse)"
   ]
  },
  {
   "cell_type": "markdown",
   "metadata": {},
   "source": [
    "Multiple linear regression is an useful algorithm for tracking the relationships of continuous variables. "
   ]
  },
  {
   "cell_type": "code",
   "execution_count": 38,
   "metadata": {},
   "outputs": [
    {
     "data": {
      "text/html": [
       "<table class=\"simpletable\">\n",
       "<caption>OLS Regression Results</caption>\n",
       "<tr>\n",
       "  <th>Dep. Variable:</th>          <td>Time</td>       <th>  R-squared (uncentered):</th>      <td>   0.997</td> \n",
       "</tr>\n",
       "<tr>\n",
       "  <th>Model:</th>                   <td>OLS</td>       <th>  Adj. R-squared (uncentered):</th> <td>   0.997</td> \n",
       "</tr>\n",
       "<tr>\n",
       "  <th>Method:</th>             <td>Least Squares</td>  <th>  F-statistic:       </th>          <td>1.816e+04</td>\n",
       "</tr>\n",
       "<tr>\n",
       "  <th>Date:</th>             <td>Wed, 22 Apr 2020</td> <th>  Prob (F-statistic):</th>          <td>2.50e-139</td>\n",
       "</tr>\n",
       "<tr>\n",
       "  <th>Time:</th>                 <td>12:29:14</td>     <th>  Log-Likelihood:    </th>          <td>  15.453</td> \n",
       "</tr>\n",
       "<tr>\n",
       "  <th>No. Observations:</th>      <td>   112</td>      <th>  AIC:               </th>          <td>  -26.91</td> \n",
       "</tr>\n",
       "<tr>\n",
       "  <th>Df Residuals:</th>          <td>   110</td>      <th>  BIC:               </th>          <td>  -21.47</td> \n",
       "</tr>\n",
       "<tr>\n",
       "  <th>Df Model:</th>              <td>     2</td>      <th>                     </th>              <td> </td>    \n",
       "</tr>\n",
       "<tr>\n",
       "  <th>Covariance Type:</th>      <td>nonrobust</td>    <th>                     </th>              <td> </td>    \n",
       "</tr>\n",
       "</table>\n",
       "<table class=\"simpletable\">\n",
       "<tr>\n",
       "     <td></td>       <th>coef</th>     <th>std err</th>      <th>t</th>      <th>P>|t|</th>  <th>[0.025</th>    <th>0.975]</th>  \n",
       "</tr>\n",
       "<tr>\n",
       "  <th>Sex</th>    <td>    0.5478</td> <td>    0.042</td> <td>   13.004</td> <td> 0.000</td> <td>    0.464</td> <td>    0.631</td>\n",
       "</tr>\n",
       "<tr>\n",
       "  <th>Height</th> <td>    0.0210</td> <td>    0.000</td> <td>  152.977</td> <td> 0.000</td> <td>    0.021</td> <td>    0.021</td>\n",
       "</tr>\n",
       "</table>\n",
       "<table class=\"simpletable\">\n",
       "<tr>\n",
       "  <th>Omnibus:</th>       <td> 4.445</td> <th>  Durbin-Watson:     </th> <td>   0.943</td>\n",
       "</tr>\n",
       "<tr>\n",
       "  <th>Prob(Omnibus):</th> <td> 0.108</td> <th>  Jarque-Bera (JB):  </th> <td>   4.098</td>\n",
       "</tr>\n",
       "<tr>\n",
       "  <th>Skew:</th>          <td> 0.466</td> <th>  Prob(JB):          </th> <td>   0.129</td>\n",
       "</tr>\n",
       "<tr>\n",
       "  <th>Kurtosis:</th>      <td> 3.089</td> <th>  Cond. No.          </th> <td>    364.</td>\n",
       "</tr>\n",
       "</table><br/><br/>Warnings:<br/>[1] Standard Errors assume that the covariance matrix of the errors is correctly specified."
      ],
      "text/plain": [
       "<class 'statsmodels.iolib.summary.Summary'>\n",
       "\"\"\"\n",
       "                                 OLS Regression Results                                \n",
       "=======================================================================================\n",
       "Dep. Variable:                   Time   R-squared (uncentered):                   0.997\n",
       "Model:                            OLS   Adj. R-squared (uncentered):              0.997\n",
       "Method:                 Least Squares   F-statistic:                          1.816e+04\n",
       "Date:                Wed, 22 Apr 2020   Prob (F-statistic):                   2.50e-139\n",
       "Time:                        12:29:14   Log-Likelihood:                          15.453\n",
       "No. Observations:                 112   AIC:                                     -26.91\n",
       "Df Residuals:                     110   BIC:                                     -21.47\n",
       "Df Model:                           2                                                  \n",
       "Covariance Type:            nonrobust                                                  \n",
       "==============================================================================\n",
       "                 coef    std err          t      P>|t|      [0.025      0.975]\n",
       "------------------------------------------------------------------------------\n",
       "Sex            0.5478      0.042     13.004      0.000       0.464       0.631\n",
       "Height         0.0210      0.000    152.977      0.000       0.021       0.021\n",
       "==============================================================================\n",
       "Omnibus:                        4.445   Durbin-Watson:                   0.943\n",
       "Prob(Omnibus):                  0.108   Jarque-Bera (JB):                4.098\n",
       "Skew:                           0.466   Prob(JB):                        0.129\n",
       "Kurtosis:                       3.089   Cond. No.                         364.\n",
       "==============================================================================\n",
       "\n",
       "Warnings:\n",
       "[1] Standard Errors assume that the covariance matrix of the errors is correctly specified.\n",
       "\"\"\""
      ]
     },
     "execution_count": 38,
     "metadata": {},
     "output_type": "execute_result"
    }
   ],
   "source": [
    "model = sm.OLS(y, X).fit()\n",
    "predictions = model.predict(X)\n",
    "model.summary()"
   ]
  },
  {
   "cell_type": "markdown",
   "metadata": {},
   "source": [
    "# 4.a Multiple linear regression Results\n",
    "\n",
    "I used an olympic data set. I conducted a multiple regression analysis to predict a runner's time (Time) from thier Sex and Height(cm). Weight(lbs) and Age(yrs) were excluded from the analysis due to not being statistically significant.\n",
    "\n",
    "We can see that both Sex and Height are statistically significant in predicting (or estimating) a runner's finishing time. \n",
    "\n",
    "The regression equation is:\n",
    "Time = 0.5478(Sex) + 0.0210(Height)\n",
    "\n",
    "* The slope of Sex is statistically significant (p < .001). On average, female runners ran 0.5478 minutes more than male runners.\n",
    " \n",
    "* The slope of Height is statistically significant (p < .001). The interpretation for the slope of Height is that as Height increases by 1, Time will increase by 0.0210 holding Sex constant. "
   ]
  },
  {
   "cell_type": "markdown",
   "metadata": {},
   "source": [
    "The value of R2 for the regression is .997, indicating that about 99.7% of the variation in runner's time can be explained by explanatory variables: Sex and Height (cm). Those explanatory variables are good predictors of runner's time in the 1,500 meter race."
   ]
  }
 ],
 "metadata": {
  "kernelspec": {
   "display_name": "Python 3",
   "language": "python",
   "name": "python3"
  },
  "language_info": {
   "codemirror_mode": {
    "name": "ipython",
    "version": 3
   },
   "file_extension": ".py",
   "mimetype": "text/x-python",
   "name": "python",
   "nbconvert_exporter": "python",
   "pygments_lexer": "ipython3",
   "version": "3.7.4"
  }
 },
 "nbformat": 4,
 "nbformat_minor": 4
}
